{
 "cells": [
  {
   "cell_type": "markdown",
   "id": "48824ed9-282b-454d-9d2e-81998e6e772f",
   "metadata": {},
   "source": [
    " 1. Create a NumPy array 'arr' of integers from 0 to 5 and print its data type."
   ]
  },
  {
   "cell_type": "code",
   "execution_count": 2,
   "id": "e8ee7ba8-95aa-4719-b582-6aba8adad327",
   "metadata": {},
   "outputs": [
    {
     "data": {
      "text/plain": [
       "dtype('int64')"
      ]
     },
     "execution_count": 2,
     "metadata": {},
     "output_type": "execute_result"
    }
   ],
   "source": [
    "arr = np.array([0, 1, 2, 3, 4, 5])\n",
    "arr.dtype"
   ]
  },
  {
   "cell_type": "markdown",
   "id": "42c32e1f-cc17-4a18-84ae-0d0031c6f2ed",
   "metadata": {},
   "source": [
    "2. Given a NumPy array 'arr', check if its data type is float64. "
   ]
  },
  {
   "cell_type": "code",
   "execution_count": 7,
   "id": "79caf525-7bb5-4763-bc3e-e0e00aeeca66",
   "metadata": {},
   "outputs": [
    {
     "data": {
      "text/plain": [
       "dtype('float64')"
      ]
     },
     "execution_count": 7,
     "metadata": {},
     "output_type": "execute_result"
    }
   ],
   "source": [
    "arr = np.array([1.5, 2.6, 3.7])\n",
    "arr.dtype"
   ]
  },
  {
   "cell_type": "markdown",
   "id": "459ffa73-f9f5-43b3-a1a8-3c01308d9022",
   "metadata": {},
   "source": [
    " 3. Create a NumPy array 'arr' with a data type of complex128 containing three complex numbers."
   ]
  },
  {
   "cell_type": "code",
   "execution_count": 2,
   "id": "22d9965a-7da1-426b-908c-3facc3fa2b7e",
   "metadata": {},
   "outputs": [
    {
     "name": "stdout",
     "output_type": "stream",
     "text": [
      "NumPy array 'arr': [1.+2.j 3.-4.j 5.+6.j]\n",
      "Data type of the array: complex128\n"
     ]
    }
   ],
   "source": [
    "import numpy as np\n",
    "\n",
    "# Create a NumPy array of complex numbers with data type complex128\n",
    "arr = np.array([1+2j, 3-4j, 5+6j], dtype=complex)\n",
    "\n",
    "print(\"NumPy array 'arr':\", arr)\n",
    "print(\"Data type of the array:\", arr.dtype)"
   ]
  },
  {
   "cell_type": "markdown",
   "id": "3442a98f-c614-483e-8145-cfe5f388d114",
   "metadata": {},
   "source": [
    " 4. Convert an existing NumPy array 'arr' of integers to float32 data type."
   ]
  },
  {
   "cell_type": "code",
   "execution_count": 4,
   "id": "e7fe3bca-3231-42cb-b702-a221bb1b761b",
   "metadata": {},
   "outputs": [],
   "source": [
    "arr = np.array([1, 2, 3, 4, 5], dtype=np.int32)\n",
    "\n",
    "arr_float32 = arr.astype(np.float32)"
   ]
  },
  {
   "cell_type": "code",
   "execution_count": 6,
   "id": "c97959ba-808b-4311-ba92-8362d9129938",
   "metadata": {},
   "outputs": [
    {
     "name": "stdout",
     "output_type": "stream",
     "text": [
      "[1. 2. 3. 4. 5.]\n",
      "float32\n"
     ]
    }
   ],
   "source": [
    "print(arr_float32)\n",
    "print(arr_float32.dtype)"
   ]
  },
  {
   "cell_type": "markdown",
   "id": "e2fa2049-774f-4e53-a000-531869e6729c",
   "metadata": {},
   "source": [
    " 5. Given a NumPy array 'arr' with float64 data type, convert it to float32 to reduce decimal precision."
   ]
  },
  {
   "cell_type": "code",
   "execution_count": 7,
   "id": "fbf38a94-109d-4fb5-bbb9-3b1a040a98fd",
   "metadata": {},
   "outputs": [],
   "source": [
    "arr = np.array([1.08527852, 2.82278799, 3.91424879], dtype=np.float64)\n",
    "\n",
    "arr_float32 = arr.astype(np.float32)"
   ]
  },
  {
   "cell_type": "code",
   "execution_count": 8,
   "id": "46ba21ba-3be7-4531-afa8-d66cb66d263a",
   "metadata": {},
   "outputs": [
    {
     "name": "stdout",
     "output_type": "stream",
     "text": [
      "[1.0852785 2.822788  3.9142487]\n",
      "float32\n"
     ]
    }
   ],
   "source": [
    "print(arr_float32)\n",
    "print(arr_float32.dtype)"
   ]
  },
  {
   "cell_type": "markdown",
   "id": "9f359eb5-426b-4b44-a08c-ecd69703ab19",
   "metadata": {},
   "source": [
    "6. Write a function array_attributes that takes a NumPy array as input and returns its shape, size, and data type."
   ]
  },
  {
   "cell_type": "code",
   "execution_count": 21,
   "id": "2c67a3c0-e807-4235-9ed0-d30563044c71",
   "metadata": {},
   "outputs": [],
   "source": [
    "sample_array = np.array([[1, 2, 3], [4, 5, 6]])"
   ]
  },
  {
   "cell_type": "code",
   "execution_count": 83,
   "id": "f5abbd61-6a44-4215-b442-3c8aa3f77bf2",
   "metadata": {},
   "outputs": [
    {
     "name": "stdout",
     "output_type": "stream",
     "text": [
      "(2, 3)\n",
      "6\n",
      "int64\n"
     ]
    }
   ],
   "source": [
    "print(sample_array.shape)\n",
    "print(sample_array.size)\n",
    "print(sample_array.dtype)"
   ]
  },
  {
   "cell_type": "markdown",
   "id": "284b5d5e-bea0-4d50-a1f0-65465d3c5b86",
   "metadata": {},
   "source": [
    "7. Create a function array_dimension that takes a NumPy array as input and returns its dimensionality"
   ]
  },
  {
   "cell_type": "code",
   "execution_count": 26,
   "id": "c85daed5-83bb-4a25-a4d4-f6c4a6a549f1",
   "metadata": {},
   "outputs": [
    {
     "name": "stdout",
     "output_type": "stream",
     "text": [
      "One-dimensional array: 1 dimension\n",
      "Two-dimensional array: 2 dimensions\n",
      "Three-dimensional array: 3 dimensions\n"
     ]
    }
   ],
   "source": [
    "def array_dimension(arr):\n",
    "    return arr.ndim\n",
    "if __name__ == \"__main__\":\n",
    "    one_dimensional_array = np.array([1, 2, 3, 4, 5])\n",
    "    two_dimensional_array = np.array([[1, 2, 3], [4, 5, 6]])\n",
    "    three_dimensional_array = np.array([[[1, 2], [3, 4]], [[5, 6], [7, 8]]])\n",
    "\n",
    "    one_dim_count = array_dimension(one_dimensional_array)\n",
    "    two_dim_count = array_dimension(two_dimensional_array)\n",
    "    three_dim_count = array_dimension(three_dimensional_array)\n",
    "\n",
    "    print(f\"One-dimensional array: {one_dim_count} dimension\")\n",
    "    print(f\"Two-dimensional array: {two_dim_count} dimensions\")\n",
    "    print(f\"Three-dimensional array: {three_dim_count} dimensions\")"
   ]
  },
  {
   "cell_type": "markdown",
   "id": "d11b2756-1f3b-45c7-a589-962edf9656fc",
   "metadata": {},
   "source": [
    " 8. Design a function item_size_info that takes a NumPy array as input and returns the item size and the total \n",
    "size in bytes."
   ]
  },
  {
   "cell_type": "code",
   "execution_count": 27,
   "id": "0b67553b-dabc-47b3-b71e-008f080d3fac",
   "metadata": {},
   "outputs": [
    {
     "name": "stdout",
     "output_type": "stream",
     "text": [
      "Item size: 8 bytes\n",
      "Total size: 40 bytes\n"
     ]
    }
   ],
   "source": [
    "def item_size_info(array: np.ndarray) -> tuple:\n",
    "    item_size = array.itemsize\n",
    "    total_size = item_size * array.size\n",
    "    return item_size, total_size\n",
    "\n",
    "array = np.array([1, 2, 3, 4, 5], dtype=np.int64)\n",
    "item_size, total_size = item_size_info(array)\n",
    "\n",
    "print(f\"Item size: {item_size} bytes\")\n",
    "print(f\"Total size: {total_size} bytes\")"
   ]
  },
  {
   "cell_type": "markdown",
   "id": "a22b1726-5c92-491c-a629-8b71899c0937",
   "metadata": {},
   "source": [
    "9. Create a function array_strides that takes a NumPy array as input and returns the strides of the array"
   ]
  },
  {
   "cell_type": "code",
   "execution_count": 28,
   "id": "29fe86a2-7b3f-42de-a8d5-7f785ef0e528",
   "metadata": {},
   "outputs": [
    {
     "name": "stdout",
     "output_type": "stream",
     "text": [
      "Strides: (24, 8)\n"
     ]
    }
   ],
   "source": [
    "def array_strides(array: np.ndarray) -> tuple:\n",
    "    return array.strides\n",
    "\n",
    "array = np.array([[1, 2, 3], [4, 5, 6]], dtype=np.int64)\n",
    "strides = array_strides(array)\n",
    "\n",
    "print(f\"Strides: {strides}\")"
   ]
  },
  {
   "cell_type": "markdown",
   "id": "73bf7717-25e8-4375-bce0-b5cb93f37da5",
   "metadata": {},
   "source": [
    " 10. Design a function shape_stride_relationship that takes a NumPy array as input and returns the shape \n",
    "and strides of the array"
   ]
  },
  {
   "cell_type": "code",
   "execution_count": 31,
   "id": "77b2c8f0-2780-44c1-ad25-a856e0cf4a52",
   "metadata": {},
   "outputs": [
    {
     "name": "stdout",
     "output_type": "stream",
     "text": [
      "Shape: (2, 3)\n",
      "Strides: (24, 8)\n"
     ]
    }
   ],
   "source": [
    "def shape_stride_relationship(array: np.ndarray):\n",
    "    return array.shape, array.strides\n",
    "\n",
    "array = np.array([[1, 2, 3], [4, 5, 6]], dtype=np.int64)\n",
    "shape, strides = shape_stride_relationship(array)\n",
    "\n",
    "print(f\"Shape: {shape}\")\n",
    "print(f\"Strides: {strides}\")"
   ]
  },
  {
   "cell_type": "markdown",
   "id": "c1ed4579-0de2-4d5e-b314-ae3d1a3e1a70",
   "metadata": {},
   "source": [
    " 11. Create a function `create_zeros_array` that takes an integer `n` as input and returns a NumPy array of \n",
    "zeros with `n` elements"
   ]
  },
  {
   "cell_type": "code",
   "execution_count": 33,
   "id": "96e0a292-f176-4f70-a105-a344e7f1dd33",
   "metadata": {},
   "outputs": [
    {
     "data": {
      "text/plain": [
       "array([0., 0., 0., 0., 0.])"
      ]
     },
     "execution_count": 80,
     "metadata": {},
     "output_type": "execute_result"
    }
   ],
   "source": [
    "def create_zeros_array(n: int) :\n",
    "    return np.zeros(n)\n",
    "\n",
    "n = 5\n",
    "array = create_zeros_array(n)\n",
    "array"
   ]
  },
  {
   "cell_type": "markdown",
   "id": "750cdccd-6588-4e36-bef6-fe5282970c9d",
   "metadata": {},
   "source": [
    " 12. Write a function `create_ones_matrix` that takes integers `rows` and `cols` as inputs and generates a 2D \n",
    "NumPy array filled with ones of size `rows x cols`"
   ]
  },
  {
   "cell_type": "code",
   "execution_count": 79,
   "id": "49905de5-ca15-4256-8cbb-3c6016c1740b",
   "metadata": {},
   "outputs": [
    {
     "data": {
      "text/plain": [
       "array([[1., 1., 1., 1.],\n",
       "       [1., 1., 1., 1.],\n",
       "       [1., 1., 1., 1.]])"
      ]
     },
     "execution_count": 79,
     "metadata": {},
     "output_type": "execute_result"
    }
   ],
   "source": [
    "def create_ones_matrix(rows: int, cols: int):\n",
    "    return np.ones((rows, cols))\n",
    "\n",
    "rows = 3\n",
    "cols = 4\n",
    "matrix = create_ones_matrix(rows, cols)\n",
    "matrix"
   ]
  },
  {
   "cell_type": "markdown",
   "id": "329cfaed-3853-4b33-8f84-cc3476da1b35",
   "metadata": {},
   "source": [
    "13. Write a function `generate_range_array` that takes three integers start, stop, and step as arguments and \n",
    "creates a NumPy array with a range starting from `start`, ending at stop (exclusive), and with the specified \n",
    "`step`."
   ]
  },
  {
   "cell_type": "code",
   "execution_count": 78,
   "id": "b51d6eba-211d-495d-abcc-2a9efaeffe12",
   "metadata": {},
   "outputs": [
    {
     "data": {
      "text/plain": [
       "array([1, 3, 5, 7, 9])"
      ]
     },
     "execution_count": 78,
     "metadata": {},
     "output_type": "execute_result"
    }
   ],
   "source": [
    "def generate_range_array(start: int, stop: int, step: int):\n",
    "    return np.arange(start, stop, step)\n",
    "\n",
    "start = 1\n",
    "stop = 10\n",
    "step = 2\n",
    "array = generate_range_array(start, stop, step)\n",
    "array"
   ]
  },
  {
   "cell_type": "markdown",
   "id": "6a2216f8-e2ad-4b63-8397-9b4a2058b81a",
   "metadata": {},
   "source": [
    " 14. Design a function `generate_linear_space` that takes two floats `start`, `stop`, and an integer `num` as \n",
    "arguments and generates a NumPy array with num equally spaced values between `start` and `stop` \n",
    "(inclusive)"
   ]
  },
  {
   "cell_type": "code",
   "execution_count": 77,
   "id": "4c29df3a-dd36-4038-a742-bc7f35d66c30",
   "metadata": {},
   "outputs": [
    {
     "data": {
      "text/plain": [
       "array([ 1.  ,  3.25,  5.5 ,  7.75, 10.  ])"
      ]
     },
     "execution_count": 77,
     "metadata": {},
     "output_type": "execute_result"
    }
   ],
   "source": [
    "def generate_linear_space(start: float, stop: float, num: int):\n",
    "    return np.linspace(start, stop, num)\n",
    "\n",
    "start = 1.0\n",
    "stop = 10.0\n",
    "num = 5\n",
    "array = generate_linear_space(start, stop, num)\n",
    "array"
   ]
  },
  {
   "cell_type": "markdown",
   "id": "7a2ca40d-b030-4d99-93a5-40e4596b1f31",
   "metadata": {},
   "source": [
    " 15. Create a function `create_identity_matrix` that takes an integer `n` as input and generates a square \n",
    "identity matrix of size `n x n` using `numpy.eye`"
   ]
  },
  {
   "cell_type": "code",
   "execution_count": 76,
   "id": "99e59617-2ff2-4255-bce4-399768249142",
   "metadata": {},
   "outputs": [
    {
     "data": {
      "text/plain": [
       "array([[1., 0., 0., 0., 0.],\n",
       "       [0., 1., 0., 0., 0.],\n",
       "       [0., 0., 1., 0., 0.],\n",
       "       [0., 0., 0., 1., 0.],\n",
       "       [0., 0., 0., 0., 1.]])"
      ]
     },
     "execution_count": 76,
     "metadata": {},
     "output_type": "execute_result"
    }
   ],
   "source": [
    "def create_identity_matrix(n: int):\n",
    "    return np.eye(n)\n",
    "\n",
    "n = 5\n",
    "matrix = create_identity_matrix(n)\n",
    "matrix"
   ]
  },
  {
   "cell_type": "markdown",
   "id": "7b5405ab-1a16-4962-b67d-089faea23e8b",
   "metadata": {},
   "source": [
    "16. Write a function that takes a Python list and converts it into a NumPy array"
   ]
  },
  {
   "cell_type": "code",
   "execution_count": 75,
   "id": "dc037c7b-cd59-4427-9d8e-05598b0aedc8",
   "metadata": {},
   "outputs": [
    {
     "data": {
      "text/plain": [
       "array([1, 2, 3, 4, 5])"
      ]
     },
     "execution_count": 75,
     "metadata": {},
     "output_type": "execute_result"
    }
   ],
   "source": [
    "def list_to_numpy_array(input_list: list):\n",
    "    return np.array(input_list)\n",
    "\n",
    "input_list = [1, 2, 3, 4, 5]\n",
    "numpy_array = list_to_numpy_array(input_list)\n",
    "numpy_array"
   ]
  },
  {
   "cell_type": "markdown",
   "id": "8a51ef5b-39e5-4fd9-a637-cf19de8384ac",
   "metadata": {},
   "source": [
    " 17. Create a NumPy array and demonstrate the use of `numpy.view` to create a new array object with the \n",
    "same data"
   ]
  },
  {
   "cell_type": "code",
   "execution_count": 43,
   "id": "1620715e-f853-444a-aa26-3b3cb31a5350",
   "metadata": {},
   "outputs": [],
   "source": [
    "original_array = np.array([1, 2, 3, 4, 6])\n",
    "view_array = original_array.view()\n",
    "original_array[0] = 10"
   ]
  },
  {
   "cell_type": "code",
   "execution_count": 44,
   "id": "5221634a-7cc0-451a-8a92-18fed785f229",
   "metadata": {},
   "outputs": [
    {
     "name": "stdout",
     "output_type": "stream",
     "text": [
      "Original Array: [10  2  3  4  6]\n",
      "View Array: [10  2  3  4  6]\n"
     ]
    }
   ],
   "source": [
    "print(\"Original Array:\", original_array)\n",
    "print(\"View Array:\", view_array)"
   ]
  },
  {
   "cell_type": "markdown",
   "id": "c5915ea1-e87b-43d9-8757-31e1aeefe529",
   "metadata": {},
   "source": [
    "18. Write a function that takes two NumPy arrays and concatenates them along a specified axis"
   ]
  },
  {
   "cell_type": "code",
   "execution_count": 48,
   "id": "ccd6887a-ef99-4dd0-99e6-27f6f233d1d3",
   "metadata": {},
   "outputs": [],
   "source": [
    "def concatenate_arrays(arr1, arr2, axis):\n",
    "    return np.concatenate((arr1, arr2), axis=axis)"
   ]
  },
  {
   "cell_type": "code",
   "execution_count": 74,
   "id": "9da1506d-f9d8-422c-9a65-ec78c2648488",
   "metadata": {},
   "outputs": [
    {
     "data": {
      "text/plain": [
       "array([[1, 2],\n",
       "       [3, 4],\n",
       "       [5, 6],\n",
       "       [7, 8]])"
      ]
     },
     "execution_count": 74,
     "metadata": {},
     "output_type": "execute_result"
    }
   ],
   "source": [
    "arr1 = np.array([[1, 2], [3, 4]])\n",
    "arr2 = np.array([[5, 6], [7, 8]])\n",
    "\n",
    "concatenated_array = concatenate_arrays(arr1, arr2, axis=0)\n",
    "concatenated_array"
   ]
  },
  {
   "cell_type": "code",
   "execution_count": 73,
   "id": "7bac9b9a-ede3-452d-8a53-958403d57c8b",
   "metadata": {},
   "outputs": [
    {
     "data": {
      "text/plain": [
       "array([[1, 2, 5, 6],\n",
       "       [3, 4, 7, 8]])"
      ]
     },
     "execution_count": 73,
     "metadata": {},
     "output_type": "execute_result"
    }
   ],
   "source": [
    "arr1 = np.array([[1, 2], [3, 4]])\n",
    "arr2 = np.array([[5, 6], [7, 8]])\n",
    "\n",
    "concatenated_array = concatenate_arrays(arr1, arr2, axis=1)\n",
    "concatenated_array"
   ]
  },
  {
   "cell_type": "markdown",
   "id": "966055c9-5895-4fcd-8b70-7f56f60ca378",
   "metadata": {},
   "source": [
    " 19.  Create two NumPy arrays with different shapes and concatenate them horizontally using `numpy.\n",
    " concatenate`"
   ]
  },
  {
   "cell_type": "code",
   "execution_count": 71,
   "id": "e1896a4a-d080-4792-95c3-df7e9b13a57d",
   "metadata": {},
   "outputs": [
    {
     "data": {
      "text/plain": [
       "array([[ 1,  2,  3,  7,  8],\n",
       "       [ 4,  5,  6,  9, 10]])"
      ]
     },
     "execution_count": 71,
     "metadata": {},
     "output_type": "execute_result"
    }
   ],
   "source": [
    "# Create two NumPy arrays with different shapes\n",
    "arr1 = np.array([[1, 2, 3], [4, 5, 6]])\n",
    "arr2 = np.array([[7, 8], [9, 10]])\n",
    "\n",
    "# Concatenate them horizontally \n",
    "concatenated_array = np.concatenate((arr1, arr2), axis=1)\n",
    "concatenated_array"
   ]
  },
  {
   "cell_type": "markdown",
   "id": "0d501381-4157-4bdd-85e6-20c4247ad4b2",
   "metadata": {},
   "source": [
    " 20. Write a function that vertically stacks multiple NumPy arrays given as a list"
   ]
  },
  {
   "cell_type": "code",
   "execution_count": 70,
   "id": "e01fc566-0b3d-4a52-85a7-c7a43bf4016c",
   "metadata": {},
   "outputs": [
    {
     "data": {
      "text/plain": [
       "array([[1, 2, 3],\n",
       "       [4, 5, 6],\n",
       "       [7, 8, 9]])"
      ]
     },
     "execution_count": 70,
     "metadata": {},
     "output_type": "execute_result"
    }
   ],
   "source": [
    "def vertical_stack(arrays):\n",
    "    return np.vstack(arrays)\n",
    "\n",
    "arrays = [np.array([1, 2, 3]), np.array([4, 5, 6]), np.array([7, 8, 9])]\n",
    "\n",
    "stacked_array = vertical_stack(arrays)\n",
    "stacked_array"
   ]
  },
  {
   "cell_type": "markdown",
   "id": "814d1715-09d7-4d39-8d9e-b9e5308c7d35",
   "metadata": {},
   "source": [
    " 21. Write a Python function using NumPy to create an array of integers within a specified range (inclusive) \n",
    "with a given step size."
   ]
  },
  {
   "cell_type": "code",
   "execution_count": 69,
   "id": "f07093be-0b5a-4ab6-9edc-a948f0dd8786",
   "metadata": {},
   "outputs": [
    {
     "data": {
      "text/plain": [
       "array([1, 3, 5, 7, 9])"
      ]
     },
     "execution_count": 69,
     "metadata": {},
     "output_type": "execute_result"
    }
   ],
   "source": [
    "def create_array(start, end, step):\n",
    "    return np.arange(start, end + 1, step)\n",
    "\n",
    "array = create_array(1, 10, 2)\n",
    "array"
   ]
  },
  {
   "cell_type": "markdown",
   "id": "602d9216-5756-4cab-ac4c-167bdcd277ce",
   "metadata": {},
   "source": [
    " 22. Write a Python function using NumPy to generate an array of 10 equally spaced values between 0 and 1 \n",
    "(inclusive)"
   ]
  },
  {
   "cell_type": "code",
   "execution_count": 68,
   "id": "fc721eda-fae6-4841-994e-565381baf91c",
   "metadata": {},
   "outputs": [
    {
     "data": {
      "text/plain": [
       "array([0.        , 0.11111111, 0.22222222, 0.33333333, 0.44444444,\n",
       "       0.55555556, 0.66666667, 0.77777778, 0.88888889, 1.        ])"
      ]
     },
     "execution_count": 68,
     "metadata": {},
     "output_type": "execute_result"
    }
   ],
   "source": [
    "def generate_array():\n",
    "    return np.linspace(0, 1, 10)\n",
    "\n",
    "array = generate_array()\n",
    "\n",
    "array"
   ]
  },
  {
   "cell_type": "markdown",
   "id": "033ebe8a-483d-4f22-874f-4baef24230e7",
   "metadata": {},
   "source": [
    " 23. Write a Python function using NumPy to create an array of 5 logarithmically spaced values between 1 and \n",
    "1000 (inclusive)"
   ]
  },
  {
   "cell_type": "code",
   "execution_count": 67,
   "id": "64f13a5d-04e4-4938-80dc-6fa06dcc2877",
   "metadata": {},
   "outputs": [
    {
     "data": {
      "text/plain": [
       "array([   1.        ,    5.62341325,   31.6227766 ,  177.827941  ,\n",
       "       1000.        ])"
      ]
     },
     "execution_count": 67,
     "metadata": {},
     "output_type": "execute_result"
    }
   ],
   "source": [
    "def generate_array():\n",
    "    return np.logspace(np.log10(1), np.log10(1000), 5)\n",
    "\n",
    "array = generate_array()\n",
    "\n",
    "array"
   ]
  },
  {
   "cell_type": "markdown",
   "id": "040dc7bf-57ca-4eca-a47f-2f877c079c0f",
   "metadata": {},
   "source": [
    " 24. Create a Pandas DataFrame using a NumPy array that contains 5 rows and 3 columns, where the values \n",
    "are random integers between 1 and 100"
   ]
  },
  {
   "cell_type": "code",
   "execution_count": 66,
   "id": "23bec400-f1d4-4a04-94a2-bb06466f5676",
   "metadata": {},
   "outputs": [
    {
     "data": {
      "text/html": [
       "<div>\n",
       "<style scoped>\n",
       "    .dataframe tbody tr th:only-of-type {\n",
       "        vertical-align: middle;\n",
       "    }\n",
       "\n",
       "    .dataframe tbody tr th {\n",
       "        vertical-align: top;\n",
       "    }\n",
       "\n",
       "    .dataframe thead th {\n",
       "        text-align: right;\n",
       "    }\n",
       "</style>\n",
       "<table border=\"1\" class=\"dataframe\">\n",
       "  <thead>\n",
       "    <tr style=\"text-align: right;\">\n",
       "      <th></th>\n",
       "      <th>Column1</th>\n",
       "      <th>Column2</th>\n",
       "      <th>Column3</th>\n",
       "    </tr>\n",
       "  </thead>\n",
       "  <tbody>\n",
       "    <tr>\n",
       "      <th>0</th>\n",
       "      <td>48</td>\n",
       "      <td>82</td>\n",
       "      <td>72</td>\n",
       "    </tr>\n",
       "    <tr>\n",
       "      <th>1</th>\n",
       "      <td>29</td>\n",
       "      <td>49</td>\n",
       "      <td>27</td>\n",
       "    </tr>\n",
       "    <tr>\n",
       "      <th>2</th>\n",
       "      <td>42</td>\n",
       "      <td>28</td>\n",
       "      <td>69</td>\n",
       "    </tr>\n",
       "    <tr>\n",
       "      <th>3</th>\n",
       "      <td>67</td>\n",
       "      <td>20</td>\n",
       "      <td>22</td>\n",
       "    </tr>\n",
       "    <tr>\n",
       "      <th>4</th>\n",
       "      <td>71</td>\n",
       "      <td>67</td>\n",
       "      <td>55</td>\n",
       "    </tr>\n",
       "  </tbody>\n",
       "</table>\n",
       "</div>"
      ],
      "text/plain": [
       "   Column1  Column2  Column3\n",
       "0       48       82       72\n",
       "1       29       49       27\n",
       "2       42       28       69\n",
       "3       67       20       22\n",
       "4       71       67       55"
      ]
     },
     "execution_count": 66,
     "metadata": {},
     "output_type": "execute_result"
    }
   ],
   "source": [
    "import pandas as pd\n",
    "array = np.random.randint(1, 101, size = (5, 3))\n",
    "df = pd.DataFrame(array, columns = [\"Column1\", \"Column2\", \"Column3\"])\n",
    "df"
   ]
  },
  {
   "cell_type": "markdown",
   "id": "1c7f3b9f-e401-49d4-91f9-a06582882b51",
   "metadata": {},
   "source": [
    " 25. Write a function that takes a Pandas DataFrame and replaces all negative values in a specific column \n",
    "with zeros. Use NumPy operations within the Pandas DataFrame"
   ]
  },
  {
   "cell_type": "markdown",
   "id": "e314ac45-bf8f-4a7a-abf5-8b014a0529ce",
   "metadata": {},
   "source": [
    "26. Access the 3rd element from the given NumPy array.                   \n",
    " arr = np.array([10, 20, 30, 40, 50])"
   ]
  },
  {
   "cell_type": "code",
   "execution_count": 2,
   "id": "aa2fc3dd-aaa0-4b53-aa3b-d5a8174acb6d",
   "metadata": {},
   "outputs": [
    {
     "data": {
      "text/plain": [
       "30"
      ]
     },
     "execution_count": 2,
     "metadata": {},
     "output_type": "execute_result"
    }
   ],
   "source": [
    "arr = np.array([10, 20, 30, 40, 50])\n",
    "third_element = arr[2]\n",
    "third_element"
   ]
  },
  {
   "cell_type": "markdown",
   "id": "f19068e2-c665-4884-8723-8da32baf0ddd",
   "metadata": {},
   "source": [
    " 27. Retrieve the element at index (1, 2) from the 2D NumPy array.             \n",
    " arr_2d = np.array([[1, 2, 3], ",
    "\n",
    " [4, 5, 6], ",
    "\n",
    " [7, 8, 9]])"
   ]
  },
  {
   "cell_type": "code",
   "execution_count": 3,
   "id": "38384f60-fa3e-4436-9710-49d07f9f1ced",
   "metadata": {},
   "outputs": [
    {
     "data": {
      "text/plain": [
       "6"
      ]
     },
     "execution_count": 3,
     "metadata": {},
     "output_type": "execute_result"
    }
   ],
   "source": [
    "arr_2d = np.array([[1, 2, 3], \n",
    "                   [4, 5, 6], \n",
    "                   [7, 8, 9]])\n",
    "\n",
    "element = arr_2d[1, 2]\n",
    "element"
   ]
  },
  {
   "cell_type": "markdown",
   "id": "2a9a03cc-ce5a-4227-81ea-5f59c10f6bd6",
   "metadata": {},
   "source": [
    "28. Using boolean indexing, extract elements greater than 5 from the given NumPy array.           \n",
    " arr = np.array([3, 8, 2, 10, 5, 7])"
   ]
  },
  {
   "cell_type": "code",
   "execution_count": 4,
   "id": "94c09baf-060a-47bc-a39d-cd6c79210496",
   "metadata": {},
   "outputs": [
    {
     "data": {
      "text/plain": [
       "array([ 8, 10,  7])"
      ]
     },
     "execution_count": 4,
     "metadata": {},
     "output_type": "execute_result"
    }
   ],
   "source": [
    "arr = np.array([3, 8, 2, 10, 5, 7])\n",
    "greater_than_five = arr[arr > 5]\n",
    "\n",
    "greater_than_five"
   ]
  },
  {
   "cell_type": "markdown",
   "id": "6aeeeb3b-138d-40fa-9772-a6e751677255",
   "metadata": {},
   "source": [
    " 29. Perform basic slicing to extract elements from index 2 to 5 (inclusive) from the given NumPy array.       \n",
    " arr = np.array([1, 2, 3, 4, 5, 6, 7, 8, 9])"
   ]
  },
  {
   "cell_type": "code",
   "execution_count": 5,
   "id": "dc89280f-e958-4897-8163-14ef3554eceb",
   "metadata": {},
   "outputs": [
    {
     "data": {
      "text/plain": [
       "array([3, 4, 5, 6])"
      ]
     },
     "execution_count": 5,
     "metadata": {},
     "output_type": "execute_result"
    }
   ],
   "source": [
    "arr = np.array([1, 2, 3, 4, 5, 6, 7, 8, 9])\n",
    "sliced_array = arr[2:6] \n",
    "\n",
    "sliced_array"
   ]
  },
  {
   "cell_type": "markdown",
   "id": "c76f517d-8141-452c-a4aa-99624e5a0c2c",
   "metadata": {},
   "source": [
    "30. Slice the 2D NumPy array to extract the sub-array `[[2, 3], [5, 6]]` from the given array.         \n",
    " arr_2d = np.array([[1, 2, 3], ",
    "\n",
    " [4, 5, 6], ",
    "\n",
    " [7, 8, 9]])"
   ]
  },
  {
   "cell_type": "code",
   "execution_count": 6,
   "id": "24e51301-062b-4870-a4bf-955318f3049b",
   "metadata": {},
   "outputs": [
    {
     "data": {
      "text/plain": [
       "array([[2, 3],\n",
       "       [5, 6]])"
      ]
     },
     "execution_count": 6,
     "metadata": {},
     "output_type": "execute_result"
    }
   ],
   "source": [
    "arr_2d = np.array([[1, 2, 3], \n",
    "                   [4, 5, 6], \n",
    "                   [7, 8, 9]])\n",
    "\n",
    "sub_array = arr_2d[0:2, 1:3]\n",
    "sub_array"
   ]
  },
  {
   "cell_type": "markdown",
   "id": "db90b7fe-59e6-493b-aed4-1cc54881a4d2",
   "metadata": {},
   "source": [
    "31.Write a NumPy function to extract elements in specific order from a given 2D array based on indices \n",
    "provided in another array."
   ]
  },
  {
   "cell_type": "code",
   "execution_count": 7,
   "id": "6ede6e82-23e3-4ebe-9f07-79be63b72c29",
   "metadata": {},
   "outputs": [
    {
     "name": "stdout",
     "output_type": "stream",
     "text": [
      "[1 5 9]\n"
     ]
    }
   ],
   "source": [
    "def extract_elements(arr, indices):\n",
    "    return arr[indices[:, 0], indices[:, 1]]\n",
    "\n",
    "arr = np.array([[1, 2, 3], [4, 5, 6], [7, 8, 9]])\n",
    "indices = np.array([[0, 0], [1, 1], [2, 2]])\n",
    "print(extract_elements(arr, indices)) "
   ]
  },
  {
   "cell_type": "markdown",
   "id": "a6f95f76-16be-44c2-9a86-df799963f9a8",
   "metadata": {},
   "source": [
    " 32. Create a NumPy function that filters elements greater than a threshold from a given 1D array using \n",
    "boolean indexing."
   ]
  },
  {
   "cell_type": "code",
   "execution_count": 8,
   "id": "f767f88a-e3d1-4b16-bae6-8e4dc88bce4b",
   "metadata": {},
   "outputs": [
    {
     "name": "stdout",
     "output_type": "stream",
     "text": [
      "[4 5 6]\n"
     ]
    }
   ],
   "source": [
    "def filter_elements(arr, threshold):\n",
    "    return arr[arr > threshold]\n",
    "\n",
    "arr = np.array([1, 2, 3, 4, 5, 6])\n",
    "threshold = 3\n",
    "print(filter_elements(arr, threshold))  "
   ]
  },
  {
   "cell_type": "markdown",
   "id": "c12b7dd4-e534-475e-8e7d-9ef35d20db50",
   "metadata": {},
   "source": [
    " 33. Develop a NumPy function that extracts specific elements from a 3D array using indices provided in three \n",
    "separate arrays for each dimension."
   ]
  },
  {
   "cell_type": "code",
   "execution_count": 9,
   "id": "6f17473f-e215-4e29-85cb-8e77895c3406",
   "metadata": {},
   "outputs": [
    {
     "name": "stdout",
     "output_type": "stream",
     "text": [
      "[ 4 17 21]\n"
     ]
    }
   ],
   "source": [
    "def extract_elements(arr, x_indices, y_indices, z_indices):\n",
    "    return arr[x_indices, y_indices, z_indices]\n",
    "arr = np.array([\n",
    "    [[1, 2, 3], [4, 5, 6], [7, 8, 9]],\n",
    "    [[10, 11, 12], [13, 14, 15], [16, 17, 18]],\n",
    "    [[19, 20, 21], [22, 23, 24], [25, 26, 27]]\n",
    "])\n",
    "\n",
    "x_indices = np.array([0, 1, 2])\n",
    "y_indices = np.array([1, 2, 0])\n",
    "z_indices = np.array([0, 1, 2])\n",
    "\n",
    "print(extract_elements(arr, x_indices, y_indices, z_indices))  "
   ]
  },
  {
   "cell_type": "markdown",
   "id": "a1e074d9-94bd-458a-8ea0-d38ed24a270b",
   "metadata": {},
   "source": [
    " 34. Write a NumPy function that returns elements from an array where both two conditions are satisfied \n",
    "using boolean indexing."
   ]
  },
  {
   "cell_type": "code",
   "execution_count": 10,
   "id": "54759831-f26d-438c-b7f5-70bf7abacee1",
   "metadata": {},
   "outputs": [
    {
     "name": "stdout",
     "output_type": "stream",
     "text": [
      "[3 4]\n"
     ]
    }
   ],
   "source": [
    "def elements_satisfying_conditions(arr, condition1, condition2):\n",
    "    return arr[(arr > condition1) & (arr < condition2)]\n",
    "arr = np.array([1, 2, 3, 4, 5, 6])\n",
    "print(elements_satisfying_conditions(arr, 2, 5)) "
   ]
  },
  {
   "cell_type": "markdown",
   "id": "8d2df377-206d-4cd5-a1fa-64cc7565d327",
   "metadata": {},
   "source": [
    " 35. Create a NumPy function that extracts elements from a 2D array using row and column indices provided \n",
    "in separate arrays."
   ]
  },
  {
   "cell_type": "code",
   "execution_count": 11,
   "id": "99d805ab-c35f-465f-90a6-77ce7f3af8be",
   "metadata": {},
   "outputs": [
    {
     "name": "stdout",
     "output_type": "stream",
     "text": [
      "[2 6 7]\n"
     ]
    }
   ],
   "source": [
    "def extract_elements(arr, row_indices, col_indices):\n",
    "    return arr[row_indices, col_indices]\n",
    "arr = np.array([[1, 2, 3], [4, 5, 6], [7, 8, 9]])\n",
    "row_indices = np.array([0, 1, 2])\n",
    "col_indices = np.array([1, 2, 0])\n",
    "\n",
    "print(extract_elements(arr, row_indices, col_indices))  "
   ]
  },
  {
   "cell_type": "markdown",
   "id": "30eb1d8b-0882-420a-b271-49bd2f04dfec",
   "metadata": {},
   "source": [
    " 36. Given an array arr of shape (3, 3), add a scalar value of 5 to each element using NumPy broadcasting."
   ]
  },
  {
   "cell_type": "code",
   "execution_count": 16,
   "id": "c8e023ef-5eda-4798-9556-a3081ebb15d2",
   "metadata": {},
   "outputs": [
    {
     "name": "stdout",
     "output_type": "stream",
     "text": [
      "Original Array:\n",
      "[[1 2 3]\n",
      " [4 5 6]\n",
      " [7 8 9]]\n",
      "\n",
      "Array after adding 5:\n",
      "[[ 6  7  8]\n",
      " [ 9 10 11]\n",
      " [12 13 14]]\n"
     ]
    }
   ],
   "source": [
    "arr = np.array([[1, 2, 3],\n",
    "                 [4, 5, 6],\n",
    "                 [7, 8, 9]])\n",
    "result = arr + 5\n",
    "\n",
    "print(\"Original Array:\")\n",
    "print(arr)\n",
    "print(\"\\nArray after adding 5:\")\n",
    "print(result)"
   ]
  },
  {
   "cell_type": "markdown",
   "id": "9ffb56a3-7199-4371-9313-81f83a2b6ad1",
   "metadata": {},
   "source": [
    "37. Consider two arrays arr1 of shape (1, 3) and arr2 of shape (3, 4). Multiply each row of arr2 by the \n",
    "corresponding element in arr1 using NumPy broadcasting."
   ]
  },
  {
   "cell_type": "code",
   "execution_count": 30,
   "id": "106bc3d9-0f17-4672-9eaf-5364b264df8f",
   "metadata": {},
   "outputs": [
    {
     "name": "stdout",
     "output_type": "stream",
     "text": [
      "(1, 3)\n",
      "(3, 4)\n",
      "Array arr1:\n",
      "[[1 2 3]]\n",
      "\n",
      "Array arr2:\n",
      "[[4 5 6 7]\n",
      " [8 9 1 1]\n",
      " [2 3 4 5]]\n",
      "\n",
      "Result of multiplication:\n",
      "[[ 4  5  6  7]\n",
      " [16 18 20 22]\n",
      " [36 39 42 45]]\n"
     ]
    }
   ],
   "source": [
    "arr1 = np.array([[1, 2, 3]])  # Shape (1, 3)\n",
    "arr2 = np.array([[4, 5, 6, 7],  # Shape (3, 4)\n",
    "                  [8, 9, 1, 1],\n",
    "                  [2, 3, 4, 5]])\n",
    "print(arr1.shape)\n",
    "print(arr2.shape)\n",
    "\n",
    "\n",
    "print(\"Array arr1:\")\n",
    "print(arr1)\n",
    "print(\"\\nArray arr2:\")\n",
    "print(arr2)\n",
    "print(\"\\nResult of multiplication:\")\n",
    "print(result)"
   ]
  },
  {
   "cell_type": "markdown",
   "id": "ba6dc272-24e2-44e7-a66d-18e08d7f2e68",
   "metadata": {},
   "source": [
    "38. Given a 1D array arr1 of shape (1, 4) and a 2D array arr2 of shape (4, 3), add arr1 to each row of arr2 using \n",
    "NumPy broadcasting."
   ]
  },
  {
   "cell_type": "code",
   "execution_count": 35,
   "id": "6e9eb806-adf8-4488-8b5a-ad7307cba189",
   "metadata": {},
   "outputs": [
    {
     "name": "stdout",
     "output_type": "stream",
     "text": [
      "(1, 4)\n",
      "(4, 3)\n",
      "Array arr1:\n",
      "[[1 2 3 4]]\n",
      "\n",
      "Array arr2:\n",
      "[[ 5  6  7]\n",
      " [ 8  9 10]\n",
      " [11 12 13]\n",
      " [14 15 16]]\n",
      "\n",
      "Result of addition:\n",
      "[[5 6 7]\n",
      " [6 7 8]\n",
      " [7 8 9]]\n"
     ]
    }
   ],
   "source": [
    "arr1 = np.array([[1, 2, 3, 4]])  # Shape (1, 4)\n",
    "arr2 = np.array([[5, 6, 7],  # Shape (4, 3)\n",
    "                  [8, 9, 10],\n",
    "                  [11, 12, 13],\n",
    "                  [14, 15, 16]])\n",
    "print(arr1.shape)\n",
    "print(arr2.shape)\n",
    "\n",
    "print(\"Array arr1:\")\n",
    "print(arr1)\n",
    "print(\"\\nArray arr2:\")\n",
    "print(arr2)\n",
    "print(\"\\nResult of addition:\")\n",
    "print(result)"
   ]
  },
  {
   "cell_type": "markdown",
   "id": "b5ac957b-320e-4bd0-b23b-dfcae7affeb2",
   "metadata": {},
   "source": [
    " 39. Consider two arrays arr1 of shape (3, 1) and arr2 of shape (1, 3). Add these arrays using NumPy \n",
    "broadcasting."
   ]
  },
  {
   "cell_type": "code",
   "execution_count": 38,
   "id": "efe2b84a-e7ab-46a2-ae93-846f6ec3fcc4",
   "metadata": {},
   "outputs": [
    {
     "name": "stdout",
     "output_type": "stream",
     "text": [
      "(3, 1)\n",
      "(1, 3)\n",
      "Array arr1:\n",
      "[[1]\n",
      " [2]\n",
      " [3]]\n",
      "\n",
      "Array arr2:\n",
      "[[4 5 6]]\n",
      "\n",
      "Result of addition:\n",
      "[[5 6 7]\n",
      " [6 7 8]\n",
      " [7 8 9]]\n"
     ]
    }
   ],
   "source": [
    "arr1 = np.array([[1],   # Shape (3, 1)\n",
    "                  [2],\n",
    "                  [3]])\n",
    "\n",
    "arr2 = np.array([[4, 5, 6]])  # Shape (1, 3)\n",
    "print(arr1.shape)\n",
    "print(arr2.shape)\n",
    "\n",
    "result = arr1 + arr2\n",
    "\n",
    "print(\"Array arr1:\")\n",
    "print(arr1)\n",
    "print(\"\\nArray arr2:\")\n",
    "print(arr2)\n",
    "print(\"\\nResult of addition:\")\n",
    "print(result)"
   ]
  },
  {
   "cell_type": "markdown",
   "id": "280d1597-1cf5-4820-a02f-375239bd10e3",
   "metadata": {},
   "source": [
    " 40. Given arrays arr1 of shape (2, 3) and arr2 of shape (2, 2), perform multiplication using NumPy \n",
    "broadcasting. Handle the shape incompatibility."
   ]
  },
  {
   "cell_type": "code",
   "execution_count": 40,
   "id": "081a5f62-da06-45ea-813f-a807110d499d",
   "metadata": {},
   "outputs": [
    {
     "name": "stdout",
     "output_type": "stream",
     "text": [
      "Array arr1:\n",
      "[[1 2 3]\n",
      " [4 5 6]]\n",
      "\n",
      "Array arr2:\n",
      "[[ 7  7  7  8  8  8]\n",
      " [ 9  9  9 10 10 10]]\n",
      "\n",
      "Result of multiplication:\n",
      "[[5 6 7]\n",
      " [6 7 8]\n",
      " [7 8 9]]\n"
     ]
    }
   ],
   "source": [
    "arr1 = np.array([[1, 2, 3],  # Shape (2, 3)\n",
    "                  [4, 5, 6]])\n",
    "\n",
    "arr2 = np.array([[7, 8],  # Shape (2, 2)\n",
    "                  [9, 10]])\n",
    "arr2 = np.repeat(arr2, 3, axis=1)\n",
    "\n",
    "print(\"Array arr1:\")\n",
    "print(arr1)\n",
    "print(\"\\nArray arr2:\")\n",
    "print(arr2)\n",
    "print(\"\\nResult of multiplication:\")\n",
    "print(result)"
   ]
  },
  {
   "cell_type": "markdown",
   "id": "0edc090e-1cf8-412b-8c70-f67fb658264a",
   "metadata": {},
   "source": [
    " 41. Calculate column-wise mean for the given array:              \n",
    " arr = np.array([[1, 2, 3], [4, 5, 6]])"
   ]
  },
  {
   "cell_type": "code",
   "execution_count": 41,
   "id": "50b3ea36-caa8-46ff-97be-9024fb868979",
   "metadata": {},
   "outputs": [
    {
     "name": "stdout",
     "output_type": "stream",
     "text": [
      "[[1 2 3]\n",
      " [4 5 6]]\n",
      "\n",
      "Column-wise means:\n",
      "[2.5 3.5 4.5]\n"
     ]
    }
   ],
   "source": [
    "arr = np.array([[1, 2, 3], \n",
    "                [4, 5, 6]])\n",
    "\n",
    "column_means = np.mean(arr, axis=0)\n",
    "\n",
    "print(arr)\n",
    "print(\"\\nColumn-wise means:\")\n",
    "print(column_means)"
   ]
  },
  {
   "cell_type": "markdown",
   "id": "37bea14f-bd57-439a-98a7-556076611d4d",
   "metadata": {},
   "source": [
    " 42. Find maximum value in each row of the given array:            \n",
    " arr = np.array([[1, 2, 3], [4, 5, 6]])"
   ]
  },
  {
   "cell_type": "code",
   "execution_count": 42,
   "id": "2a32a1bd-3325-421a-9b28-a5cce4bfd5bd",
   "metadata": {},
   "outputs": [
    {
     "name": "stdout",
     "output_type": "stream",
     "text": [
      "Array:\n",
      "[[1 2 3]\n",
      " [4 5 6]]\n",
      "\n",
      "Maximum value in each row:\n",
      "[3 6]\n"
     ]
    }
   ],
   "source": [
    "arr = np.array([[1, 2, 3], \n",
    "                [4, 5, 6]])\n",
    "\n",
    "row_maxima = np.max(arr, axis=1)\n",
    "\n",
    "print(\"Array:\")\n",
    "print(arr)\n",
    "print(\"\\nMaximum value in each row:\")\n",
    "print(row_maxima)"
   ]
  },
  {
   "cell_type": "markdown",
   "id": "8468592c-9e66-4fcf-a476-172b3414b7d6",
   "metadata": {},
   "source": [
    " 43. For the given array, find indices of maximum value in each column.          \n",
    " arr = np.array([[1, 2, 3], [4, 5, 6]])"
   ]
  },
  {
   "cell_type": "code",
   "execution_count": 44,
   "id": "b8a9d25b-62f9-4cc5-a0cc-7041b8e93aef",
   "metadata": {},
   "outputs": [
    {
     "name": "stdout",
     "output_type": "stream",
     "text": [
      "Array:\n",
      "[[1 2 3]\n",
      " [4 5 6]]\n",
      "\n",
      "Indices of maximum values in each column:\n",
      "[1 1 1]\n"
     ]
    }
   ],
   "source": [
    "arr = np.array([[1, 2, 3], \n",
    "                [4, 5, 6]])\n",
    "\n",
    "# Find the indices of maximum values in each column\n",
    "col_max_indices = np.argmax(arr, axis=0)\n",
    "\n",
    "print(\"Array:\")\n",
    "print(arr)\n",
    "print(\"\\nIndices of maximum values in each column:\")\n",
    "print(col_max_indices)"
   ]
  },
  {
   "cell_type": "markdown",
   "id": "45e556ff-1093-492a-baad-12a56a2c0e1e",
   "metadata": {},
   "source": [
    " 44. For the given array, apply custom function to calculate moving sum along rows.       \n",
    " arr = np.array([[1, 2, 3], [4, 5, 6]])"
   ]
  },
  {
   "cell_type": "code",
   "execution_count": 45,
   "id": "37bf45bc-75ad-4172-8433-e407f968646c",
   "metadata": {},
   "outputs": [
    {
     "name": "stdout",
     "output_type": "stream",
     "text": [
      "[[ 3  5]\n",
      " [ 9 11]]\n"
     ]
    }
   ],
   "source": [
    "arr = np.array([[1, 2, 3], [4, 5, 6]])\n",
    "\n",
    "def moving_sum(a, n=2):\n",
    "    return np.array([sum(a[i:i+n]) for i in range(len(a)-n+1)])\n",
    "\n",
    "result = np.apply_along_axis(moving_sum, 1, arr)\n",
    "\n",
    "print(result)"
   ]
  },
  {
   "cell_type": "markdown",
   "id": "dce0f3e0-1499-477c-a8c0-a628236d7cf2",
   "metadata": {},
   "source": [
    " 45. In the given array, check if all elements in each column are even.         \n",
    " arr = np.array([[2, 4, 6], [3, 5, 7]])"
   ]
  },
  {
   "cell_type": "code",
   "execution_count": 49,
   "id": "08e0d0dd-c65a-44ed-af7c-32d063bfd01e",
   "metadata": {},
   "outputs": [
    {
     "name": "stdout",
     "output_type": "stream",
     "text": [
      "Array:\n",
      "[[2 4 6]\n",
      " [3 5 7]]\n",
      "\n",
      "Are all elements in each column even?\n",
      "[False False False]\n"
     ]
    }
   ],
   "source": [
    "arr = np.array([[2, 4, 6], \n",
    "                [3, 5, 7]])\n",
    "\n",
    "# Check if all elements in each column are even\n",
    "are_all_even = np.all(arr % 2 == 0, axis=0)\n",
    "\n",
    "print(\"Array:\")\n",
    "print(arr)\n",
    "print(\"\\nAre all elements in each column even?\")\n",
    "print(are_all_even)"
   ]
  },
  {
   "cell_type": "markdown",
   "id": "13dda1fe-bd57-45a2-8ea3-93cf132855f7",
   "metadata": {},
   "source": [
    "46. Given a NumPy array arr, reshape it into a matrix of dimensions `m` rows and `n` columns. Return the \n",
    "reshaped matrix.            \n",
    " original_array = np.array([1, 2, 3, 4, 5, 6])"
   ]
  },
  {
   "cell_type": "code",
   "execution_count": 50,
   "id": "c984760b-f96d-4477-8a10-97f3132afe90",
   "metadata": {},
   "outputs": [
    {
     "name": "stdout",
     "output_type": "stream",
     "text": [
      "Original Array:\n",
      "[1 2 3 4 5 6]\n",
      "\n",
      "Reshaped Matrix:\n",
      "[[1 2 3]\n",
      " [4 5 6]]\n"
     ]
    }
   ],
   "source": [
    "original_array = np.array([1, 2, 3, 4, 5, 6])\n",
    "\n",
    "\n",
    "m = 2  # Number of rows\n",
    "n = 3  # Number of columns\n",
    "\n",
    "reshaped_matrix = original_array.reshape(m, n)\n",
    "\n",
    "print(\"Original Array:\")\n",
    "print(original_array)\n",
    "print(\"\\nReshaped Matrix:\")\n",
    "print(reshaped_matrix)"
   ]
  },
  {
   "cell_type": "markdown",
   "id": "d8f27cfe-c4f8-4132-b1f0-90a32af4e20f",
   "metadata": {},
   "source": [
    " 47. Create a function that takes a matrix as input and returns the flattened array.          \n",
    " input_matrix = np.array([[1, 2, 3], [4, 5, 6]]) "
   ]
  },
  {
   "cell_type": "code",
   "execution_count": 51,
   "id": "fbcfb5be-ec71-4910-bfb3-372e3a8249b7",
   "metadata": {},
   "outputs": [
    {
     "name": "stdout",
     "output_type": "stream",
     "text": [
      "[1 2 3 4 5 6]\n"
     ]
    }
   ],
   "source": [
    "def flatten_matrix(matrix):\n",
    "    return matrix.flatten()\n",
    "\n",
    "input_matrix = np.array([[1, 2, 3], [4, 5, 6]])\n",
    "flattened_array = flatten_matrix(input_matrix)\n",
    "\n",
    "print(flattened_array)"
   ]
  },
  {
   "cell_type": "markdown",
   "id": "7bbc0066-3880-4b31-91ef-ba4bb525c261",
   "metadata": {},
   "source": [
    " 48. Write a function that concatenates two given arrays along a specified axis.          \n",
    " array1 = np.array([[1, 2], [3, 4]]) ",
    "\n",
    " array2 = np.array([[5, 6], [7, 8]])"
   ]
  },
  {
   "cell_type": "code",
   "execution_count": 53,
   "id": "278fb005-83dd-4b55-8f14-2b70053c714a",
   "metadata": {},
   "outputs": [
    {
     "name": "stdout",
     "output_type": "stream",
     "text": [
      "[[1 2]\n",
      " [3 4]\n",
      " [5 6]\n",
      " [7 8]]\n"
     ]
    }
   ],
   "source": [
    "def concatenate_arrays(array1, array2, axis):\n",
    "    return np.concatenate((array1, array2), axis=axis)\n",
    "\n",
    "array1 = np.array([[1, 2], [3, 4]])\n",
    "array2 = np.array([[5, 6], [7, 8]])\n",
    "\n",
    "result = concatenate_arrays(array1, array2, axis=0)\n",
    "print(result)"
   ]
  },
  {
   "cell_type": "markdown",
   "id": "7a2d6974-6916-42e5-a73a-1d65ce6791b8",
   "metadata": {},
   "source": [
    " 49. Create a function that splits an array into multiple sub-arrays along a specified axis.     \n",
    " original_array = np.array([[1, 2, 3], [4, 5, 6], [7, 8, 9]])"
   ]
  },
  {
   "cell_type": "code",
   "execution_count": 54,
   "id": "a3d726b7-155a-48c7-8a4a-7824137ff831",
   "metadata": {},
   "outputs": [
    {
     "name": "stdout",
     "output_type": "stream",
     "text": [
      "[array([[1, 2, 3]]), array([[4, 5, 6]]), array([[7, 8, 9]])]\n"
     ]
    }
   ],
   "source": [
    "def split_array(original_array, num_subarrays, axis):\n",
    "    return np.split(original_array, num_subarrays, axis=axis)\n",
    "\n",
    "original_array = np.array([[1, 2, 3], [4, 5, 6], [7, 8, 9]])\n",
    "\n",
    "result = split_array(original_array, 3, axis=0)\n",
    "print(result)"
   ]
  },
  {
   "cell_type": "markdown",
   "id": "c770958d-4a17-4f0a-b271-d743990aeb81",
   "metadata": {},
   "source": [
    " 50. Write a function that inserts and then deletes elements from a given array at specified indices.            \n",
    " original_array = np.array([1, 2, 3, 4, 5]) ",
    "\n",
    " indices_to_insert = [2, 4] ",
    "\n",
    " values_to_insert = [10, 11] ",
    "\n",
    " indices_to_delete = [1, 3]"
   ]
  },
  {
   "cell_type": "code",
   "execution_count": 56,
   "id": "98e7a1ff-6434-4653-8b5e-8b57bb6238d5",
   "metadata": {},
   "outputs": [
    {
     "name": "stdout",
     "output_type": "stream",
     "text": [
      "[ 1 10  4 11  5]\n"
     ]
    }
   ],
   "source": [
    "def insert_and_delete(original_array, indices_to_insert, values_to_insert, indices_to_delete):\n",
    "    new_array = original_array.copy()\n",
    "    new_array = np.insert(new_array, indices_to_insert, values_to_insert)\n",
    "    new_array = np.delete(new_array, indices_to_delete)\n",
    "    return new_array\n",
    "\n",
    "original_array = np.array([1, 2, 3, 4, 5])\n",
    "indices_to_insert = [2, 4]\n",
    "values_to_insert = [10, 11]\n",
    "indices_to_delete = [1, 3]\n",
    "\n",
    "result = insert_and_delete(original_array, indices_to_insert, values_to_insert, indices_to_delete)\n",
    "print(result)"
   ]
  },
  {
   "cell_type": "markdown",
   "id": "b271a935-0237-4666-a455-6e89e7c2ce00",
   "metadata": {},
   "source": [
    " 51. Create a NumPy array `arr1` with random integers and another array `arr2` with integers from 1 to 10. \n",
    "Perform element-wise addition between `arr1` and `arr2`."
   ]
  },
  {
   "cell_type": "code",
   "execution_count": 60,
   "id": "56aaa141-e836-4d8b-b15d-98a15c15a3f1",
   "metadata": {},
   "outputs": [
    {
     "name": "stdout",
     "output_type": "stream",
     "text": [
      "Array arr1 (random integers):\n",
      "[[7 0 3 6 8]\n",
      " [6 1 4 9 3]\n",
      " [4 7 7 9 9]]\n",
      "\n",
      "Array arr2 (integers from 1 to 10):\n",
      "[[ 1  2  3  4  5]\n",
      " [ 6  7  8  9 10]\n",
      " [ 1  2  3  4  5]\n",
      " [ 6  7  8  9 10]]\n",
      "\n",
      "Result of element-wise addition:\n",
      "[ 1 10  4 11  5]\n"
     ]
    }
   ],
   "source": [
    "arr1 = np.random.randint(0, 10, size=(3, 5))\n",
    "arr2 = np.arange(1, 11).reshape(2, 5)  \n",
    "\n",
    "arr2 = np.tile(arr2, (2, 1))\n",
    "\n",
    "\n",
    "print(\"Array arr1 (random integers):\")\n",
    "print(arr1)\n",
    "print(\"\\nArray arr2 (integers from 1 to 10):\")\n",
    "print(arr2)\n",
    "print(\"\\nResult of element-wise addition:\")\n",
    "print(result)"
   ]
  },
  {
   "cell_type": "markdown",
   "id": "405ab0bc-a97d-4648-94ba-5fe719032628",
   "metadata": {},
   "source": [
    "52. Generate a NumPy array `arr1` with sequential integers from 10 to 1 and another array `arr2` with integers \n",
    "from 1 to 10. Subtract `arr2` from `arr1` element-wise."
   ]
  },
  {
   "cell_type": "code",
   "execution_count": 3,
   "id": "a7ac9aac-0379-4eb5-9983-795a2c27a585",
   "metadata": {},
   "outputs": [
    {
     "name": "stdout",
     "output_type": "stream",
     "text": [
      "Array arr1 (integers from 10 to 1):\n",
      "[10  9  8  7  6  5  4  3  2  1]\n",
      "\n",
      "Array arr2 (integers from 1 to 10):\n",
      "[ 1  2  3  4  5  6  7  8  9 10]\n",
      "\n",
      "Result of element-wise subtraction (arr1 - arr2):\n",
      "[ 9  7  5  3  1 -1 -3 -5 -7 -9]\n"
     ]
    }
   ],
   "source": [
    "arr1 = np.arange(10, 0, -1)\n",
    "arr2 = np.arange(1, 11)\n",
    "\n",
    "result = arr1 - arr2\n",
    "\n",
    "print(\"Array arr1 (integers from 10 to 1):\")\n",
    "print(arr1)\n",
    "print(\"\\nArray arr2 (integers from 1 to 10):\")\n",
    "print(arr2)\n",
    "print(\"\\nResult of element-wise subtraction (arr1 - arr2):\")\n",
    "print(result)"
   ]
  },
  {
   "cell_type": "markdown",
   "id": "a6213271-34d6-4244-922a-24d0c7d7ff1c",
   "metadata": {},
   "source": [
    "53. Create a NumPy array `arr1` with random integers and another array `arr2` with integers from 1 to 5. \n",
    "Perform element-wise multiplication between `arr1` and `arr2`."
   ]
  },
  {
   "cell_type": "code",
   "execution_count": 4,
   "id": "a100c662-5f40-4350-8e23-cbe9916f8944",
   "metadata": {},
   "outputs": [
    {
     "name": "stdout",
     "output_type": "stream",
     "text": [
      "Array arr1 (random integers):\n",
      "[[4 9 4 9 0]\n",
      " [0 7 8 8 7]\n",
      " [1 6 2 0 2]]\n",
      "\n",
      "Array arr2 (integers from 1 to 5):\n",
      "[[1 2 3 4 5]\n",
      " [1 2 3 4 5]\n",
      " [1 2 3 4 5]]\n",
      "\n",
      "Result of element-wise multiplication:\n",
      "[[ 4 18 12 36  0]\n",
      " [ 0 14 24 32 35]\n",
      " [ 1 12  6  0 10]]\n"
     ]
    }
   ],
   "source": [
    "arr1 = np.random.randint(0, 10, size=(3, 5))\n",
    "arr2 = np.arange(1, 6).reshape(1, 5)\n",
    "\n",
    "arr2 = np.repeat(arr2, 3, axis=0) \n",
    "\n",
    "result = arr1 * arr2\n",
    "\n",
    "print(\"Array arr1 (random integers):\")\n",
    "print(arr1)\n",
    "print(\"\\nArray arr2 (integers from 1 to 5):\")\n",
    "print(arr2)\n",
    "print(\"\\nResult of element-wise multiplication:\")\n",
    "print(result)"
   ]
  },
  {
   "cell_type": "markdown",
   "id": "15e6b32c-5818-4dfa-9b9c-6ee990bba3e8",
   "metadata": {},
   "source": [
    " 54. Generate a NumPy array `arr1` with even integers from 2 to 10 and another array `arr2` with integers from 1 \n",
    "to 5. Perform element-wise division of `arr1` by `arr2`."
   ]
  },
  {
   "cell_type": "code",
   "execution_count": 5,
   "id": "b0d83a41-166e-43a0-bdc4-bc906bce3016",
   "metadata": {},
   "outputs": [
    {
     "name": "stdout",
     "output_type": "stream",
     "text": [
      "Array arr1 (even integers from 2 to 10):\n",
      "[ 2  4  6  8 10]\n",
      "\n",
      "Array arr2 (integers from 1 to 5):\n",
      "[1 2 3 4 5]\n",
      "\n",
      "Result of element-wise division (arr1 / arr2):\n",
      "[2. 2. 2. 2. 2.]\n"
     ]
    }
   ],
   "source": [
    "arr1 = np.arange(1, 6) * 2\n",
    "arr2 = np.arange(1, 6)\n",
    "\n",
    "result = arr1 / arr2\n",
    "\n",
    "print(\"Array arr1 (even integers from 2 to 10):\")\n",
    "print(arr1)\n",
    "print(\"\\nArray arr2 (integers from 1 to 5):\")\n",
    "print(arr2)\n",
    "print(\"\\nResult of element-wise division (arr1 / arr2):\")\n",
    "print(result)"
   ]
  },
  {
   "cell_type": "markdown",
   "id": "2b754969-a5e9-4d30-9818-624f7035cd52",
   "metadata": {},
   "source": [
    " 55. Create a NumPy array `arr1` with integers from 1 to 5 and another array `arr2` with the same numbers \n",
    "reversed. Calculate the exponentiation of `arr1` raised to the power of `arr2` element-wise."
   ]
  },
  {
   "cell_type": "code",
   "execution_count": 6,
   "id": "76ab6178-22ca-4962-9365-5ccdb668b3e9",
   "metadata": {},
   "outputs": [
    {
     "name": "stdout",
     "output_type": "stream",
     "text": [
      "Array arr1 (integers from 1 to 5):\n",
      "[1 2 3 4 5]\n",
      "\n",
      "Array arr2 (reversed):\n",
      "[5 4 3 2 1]\n",
      "\n",
      "Result of element-wise exponentiation (arr1 ** arr2):\n",
      "[ 1 16 27 16  5]\n"
     ]
    }
   ],
   "source": [
    "arr1 = np.arange(1, 6)\n",
    "arr2 = arr1[::-1]\n",
    "\n",
    "result = arr1 ** arr2\n",
    "\n",
    "print(\"Array arr1 (integers from 1 to 5):\")\n",
    "print(arr1)\n",
    "print(\"\\nArray arr2 (reversed):\")\n",
    "print(arr2)\n",
    "print(\"\\nResult of element-wise exponentiation (arr1 ** arr2):\")\n",
    "print(result)"
   ]
  },
  {
   "cell_type": "markdown",
   "id": "8dec7e52-0cca-4b14-af95-6439d39bbd10",
   "metadata": {},
   "source": [
    " 56. Write a function that counts the occurrences of a specific substring within a NumPy array of strings.\n",
    " arr = np.array(['hello', 'world', 'hello', 'numpy', 'hello'])"
   ]
  },
  {
   "cell_type": "code",
   "execution_count": 8,
   "id": "0519605b-6996-438b-8adc-c981bdb8f823",
   "metadata": {},
   "outputs": [
    {
     "data": {
      "text/plain": [
       "3"
      ]
     },
     "execution_count": 8,
     "metadata": {},
     "output_type": "execute_result"
    }
   ],
   "source": [
    "def count_substring(arr, substring):\n",
    "    return np.sum(np.core.defchararray.find(arr, substring)!= -1)\n",
    "\n",
    "arr = np.array(['hello', 'world', 'hello', 'numpy', 'hello'])\n",
    "substring = 'hello'\n",
    "\n",
    "result = count_substring(arr, substring)\n",
    "result"
   ]
  },
  {
   "cell_type": "markdown",
   "id": "601a5913-6b4b-4222-98c4-641686118f3f",
   "metadata": {},
   "source": [
    " 57. Write a function that extracts uppercase characters from a NumPy array of strings.\n",
    " arr = np.array(['Hello', 'World', 'OpenAI', 'GPT'])\n",
    " arr = np.array(['Hello', 'World', 'OpenAI', 'GPT'])"
   ]
  },
  {
   "cell_type": "code",
   "execution_count": 13,
   "id": "258aadc2-738b-4881-982a-416a794448f0",
   "metadata": {},
   "outputs": [
    {
     "data": {
      "text/plain": [
       "array(['H', 'W', 'OAI', 'GPT'], dtype='<U3')"
      ]
     },
     "execution_count": 13,
     "metadata": {},
     "output_type": "execute_result"
    }
   ],
   "source": [
    "def extract_uppercase(arr):\n",
    "    return np.array([''.join(filter(str.isupper, s)) for s in arr])\n",
    "\n",
    "arr = np.array(['Hello', 'World', 'OpenAI', 'GPT'])\n",
    "\n",
    "result = extract_uppercase(arr)\n",
    "result"
   ]
  },
  {
   "cell_type": "markdown",
   "id": "b53d92cc-6f0e-4221-af04-13f372fc2fb6",
   "metadata": {},
   "source": [
    "58. Write a function that replaces occurrences of a substring in a NumPy array of strings with a new string.\n",
    " arr = np.array(['apple', 'banana', 'grape', 'pineapple'])"
   ]
  },
  {
   "cell_type": "code",
   "execution_count": 14,
   "id": "1c649686-4bc2-4cad-8961-ab674f00a407",
   "metadata": {},
   "outputs": [
    {
     "data": {
      "text/plain": [
       "array(['ango', 'banana', 'grape', 'pineango'], dtype='<U8')"
      ]
     },
     "execution_count": 14,
     "metadata": {},
     "output_type": "execute_result"
    }
   ],
   "source": [
    "def replace_substring(arr, old, new):\n",
    "    return np.core.defchararray.replace(arr, old, new)\n",
    "\n",
    "arr = np.array(['apple', 'banana', 'grape', 'pineapple'])\n",
    "old = 'apple'\n",
    "new = 'ango'\n",
    "\n",
    "result = replace_substring(arr, old, new)\n",
    "result"
   ]
  },
  {
   "cell_type": "markdown",
   "id": "bd54c837-ebfb-4ed0-8362-dbb2bea97579",
   "metadata": {},
   "source": [
    " 59. Write a function that concatenates strings in a NumPy array element-wise.\n",
    " arr1 = np.array(['Hello', 'World']) ",
    "\n",
    " arr2 = np.array(['Open', 'AI'])"
   ]
  },
  {
   "cell_type": "code",
   "execution_count": 15,
   "id": "5e0fd452-6258-46e3-8ab7-31dcafc23bb6",
   "metadata": {},
   "outputs": [
    {
     "data": {
      "text/plain": [
       "array(['HelloOpen', 'WorldAI'], dtype='<U9')"
      ]
     },
     "execution_count": 15,
     "metadata": {},
     "output_type": "execute_result"
    }
   ],
   "source": [
    "arr1 = np.array(['Hello', 'World'])\n",
    "arr2 = np.array(['Open', 'AI'])\n",
    "\n",
    "result = np.core.defchararray.add(arr1, arr2)\n",
    "result"
   ]
  },
  {
   "cell_type": "markdown",
   "id": "73b2bae5-4fdd-44b9-b9b2-f2596838080c",
   "metadata": {},
   "source": [
    " 60. Write a function that finds the length of the longest string in a NumPy array.\n",
    " arr = np.array(['apple', 'banana', 'grape', 'pineapple'])\n",
    " arr = np.array(['apple', 'banana', 'grape', 'pineapple'])"
   ]
  },
  {
   "cell_type": "code",
   "execution_count": 20,
   "id": "b0d784f6-a82c-4e56-b030-6d6b03ecf29b",
   "metadata": {},
   "outputs": [
    {
     "name": "stdout",
     "output_type": "stream",
     "text": [
      "Length of the longest string: 9\n"
     ]
    }
   ],
   "source": [
    "def longest_string_length(arr):\n",
    "    return max(len(s) for s in arr)\n",
    "\n",
    "arr = np.array(['apple', 'banana', 'grape', 'pineapple'])\n",
    "max_length = longest_string_length(arr)\n",
    "\n",
    "print(\"Length of the longest string:\", max_length)\n"
   ]
  },
  {
   "cell_type": "markdown",
   "id": "25f3dd85-c56a-41cf-ba57-a4386533b0ef",
   "metadata": {},
   "source": [
    " 61. Create a dataset of 100 random integers between 1 and 1000. Compute the mean, median, variance, and \n",
    "standard deviation of the dataset using NumPy's functions."
   ]
  },
  {
   "cell_type": "code",
   "execution_count": 21,
   "id": "796f1bf5-ccf1-46d2-b08e-2ba49b5c529d",
   "metadata": {},
   "outputs": [
    {
     "name": "stdout",
     "output_type": "stream",
     "text": [
      "Dataset: [ 94 290 811 566 742 501 978 216 506 351 776 446 279 963 163 926 579 906\n",
      " 130 399 145 533  10 576 738  19 633 324  44 828 166 301 159 485 135 110\n",
      " 448 214 644 699 522 903 181 658 712 103 655  57   6  22 990  45 758 742\n",
      " 629 623 400 956 491 725 627 754 168 291 758 626 178 672 510 216 769 292\n",
      " 932 213 105 498 361 544 761 645 471  38  43 357 177 691 715 243 986 971\n",
      " 906 356 738  66 651 655 375  76 338 374]\n",
      "Mean: 471.58\n",
      "Median: 494.5\n",
      "Variance: 84070.32359999999\n",
      "Standard Deviation: 289.948829278547\n"
     ]
    }
   ],
   "source": [
    "data = np.random.randint(1, 1001, size=100)\n",
    "\n",
    "mean = np.mean(data)\n",
    "median = np.median(data)\n",
    "variance = np.var(data)\n",
    "std_deviation = np.std(data)\n",
    "\n",
    "print(\"Dataset:\", data)\n",
    "print(\"Mean:\", mean)\n",
    "print(\"Median:\", median)\n",
    "print(\"Variance:\", variance)\n",
    "print(\"Standard Deviation:\", std_deviation)"
   ]
  },
  {
   "cell_type": "markdown",
   "id": "b38e2dbc-d994-48e9-9893-c1d2fbcb5f72",
   "metadata": {},
   "source": [
    "62. Generate an array of 50 random numbers between 1 and 100. Find the 25th and 75th percentiles of the \n",
    "dataset."
   ]
  },
  {
   "cell_type": "code",
   "execution_count": 22,
   "id": "1186c963-644f-493b-8cf9-f1eccd662127",
   "metadata": {},
   "outputs": [
    {
     "name": "stdout",
     "output_type": "stream",
     "text": [
      "Dataset: [32 22 68 18 66 23 51 45  5 60 69 69 94  5 80 56 97 71 78 45 95 92 88 72\n",
      " 61 83 15 79 57 12 35 65 45 26 70 45 28 11 82 20 68 84 30 46 76 40 19 42\n",
      " 11 65]\n",
      "\n",
      "25th Percentile: 28.5\n",
      "75th Percentile: 71.75\n"
     ]
    }
   ],
   "source": [
    "data = np.random.randint(1, 101, size=50)\n",
    "\n",
    "percentile_25 = np.percentile(data, 25)\n",
    "percentile_75 = np.percentile(data, 75)\n",
    "\n",
    "print(\"Dataset:\", data)\n",
    "print(\"\\n25th Percentile:\", percentile_25)\n",
    "print(\"75th Percentile:\", percentile_75)"
   ]
  },
  {
   "cell_type": "markdown",
   "id": "0d6a39c8-c922-49fa-9466-7b50d2181665",
   "metadata": {},
   "source": [
    " 63. Create two arrays representing two sets of variables. Compute the correlation coefficient between these \n",
    "arrays using NumPy's `corrcoef` function."
   ]
  },
  {
   "cell_type": "code",
   "execution_count": 23,
   "id": "1c69d7c0-25e3-4606-93cb-6becb6400df6",
   "metadata": {},
   "outputs": [
    {
     "name": "stdout",
     "output_type": "stream",
     "text": [
      "Array 1: [0.33814749 0.86350576 0.27492344 0.80637336 0.81493984 0.11838607\n",
      " 0.95077422 0.92305008 0.58696921 0.84419728 0.37609441 0.92610882\n",
      " 0.11016844 0.54333251 0.01264657 0.52650767 0.60596926 0.11967083\n",
      " 0.32969946 0.47291513 0.99516552 0.60766191 0.09380194 0.24284369\n",
      " 0.58171329 0.27231439 0.65363847 0.19213321 0.7712161  0.44273671\n",
      " 0.65613713 0.3237319  0.53705331 0.64683576 0.44531438 0.64508176\n",
      " 0.62770071 0.32952364 0.080275   0.35790893 0.0102857  0.94504745\n",
      " 0.05839183 0.88368308 0.72327004 0.1222047  0.38509505 0.26644031\n",
      " 0.32997057 0.69555941]\n",
      "\n",
      "Array 2: [0.33259007 0.87529881 0.05105416 0.50674725 0.56941979 0.56206368\n",
      " 0.44281803 0.43933814 0.61349003 0.53806051 0.89443417 0.34848382\n",
      " 0.84022448 0.57514019 0.39985602 0.38546778 0.48358913 0.56588329\n",
      " 0.90047505 0.04701391 0.78581009 0.48720892 0.09877797 0.26710158\n",
      " 0.34572834 0.14514868 0.3715301  0.05355492 0.67380791 0.23410985\n",
      " 0.37480632 0.35743762 0.15053824 0.23360302 0.8805702  0.54577465\n",
      " 0.9358102  0.05235658 0.87314482 0.83567889 0.2648025  0.25030247\n",
      " 0.51561782 0.99591168 0.63595129 0.5296331  0.40482351 0.16543699\n",
      " 0.46532144 0.19574204]\n",
      "\n",
      "Correlation Coefficient: 0.17806457694054284\n"
     ]
    }
   ],
   "source": [
    "array1 = np.random.rand(50)\n",
    "array2 = np.random.rand(50)\n",
    "\n",
    "correlation_coefficient = np.corrcoef(array1, array2)[0, 1]\n",
    "\n",
    "print(\"Array 1:\", array1)\n",
    "print(\"\\nArray 2:\", array2)\n",
    "print(\"\\nCorrelation Coefficient:\", correlation_coefficient)"
   ]
  },
  {
   "cell_type": "markdown",
   "id": "f367d385-c5c1-40ba-bc4f-36b3b24afde4",
   "metadata": {},
   "source": [
    " 64. Create two matrices and perform matrix multiplication using NumPy's `dot` function."
   ]
  },
  {
   "cell_type": "code",
   "execution_count": 24,
   "id": "4fb969db-b920-48fd-907d-c286ef6a6f39",
   "metadata": {},
   "outputs": [
    {
     "name": "stdout",
     "output_type": "stream",
     "text": [
      "Matrix 1:\n",
      " [[0.66285875 0.19543552 0.3538513  0.46730918]\n",
      " [0.96010428 0.55419677 0.09814723 0.26206934]\n",
      " [0.79646924 0.57876411 0.49488252 0.90065844]]\n",
      "\n",
      "Matrix 2:\n",
      " [[0.45350021 0.71954551]\n",
      " [0.67074342 0.24920726]\n",
      " [0.28072717 0.13123503]\n",
      " [0.98892376 0.12132851]]\n",
      "\n",
      "Result:\n",
      " [[0.99316249 0.6287966 ]\n",
      " [1.09385051 0.87362542]\n",
      " [1.77901069 0.89154956]]\n"
     ]
    }
   ],
   "source": [
    "matrix1 = np.random.rand(3, 4)\n",
    "matrix2 = np.random.rand(4, 2)\n",
    "\n",
    "result = np.dot(matrix1, matrix2)\n",
    "\n",
    "print(\"Matrix 1:\\n\", matrix1)\n",
    "print(\"\\nMatrix 2:\\n\", matrix2)\n",
    "print(\"\\nResult:\\n\", result)"
   ]
  },
  {
   "cell_type": "markdown",
   "id": "c2616a9b-7fdf-46d8-b8c7-7ddeaf1e61a4",
   "metadata": {},
   "source": [
    " 65. Create an array of 50 integers between 10 and 1000. Calculate the 10th, 50th (median), and 90th \n",
    "percentiles along with the first and third quartiles."
   ]
  },
  {
   "cell_type": "code",
   "execution_count": 25,
   "id": "9cabb7df-aefe-466f-9bd7-ca26ba3df1c2",
   "metadata": {},
   "outputs": [
    {
     "name": "stdout",
     "output_type": "stream",
     "text": [
      "Dataset: [376  61 502 309 365 363 848 765 350 194 363  30 971 795 666 150 654 608\n",
      " 840 919 590 494 723 160 927 725 410 392 526 651 484 588 845 621 472 647\n",
      "  17 193 824 848 662 857  41 429 422 416 801 862 107 538]\n",
      "\n",
      "10th Percentile: 145.70000000000002\n",
      "50th Percentile (Median): 532.0\n",
      "90th Percentile: 848.9\n",
      "First Quartile (Q1): 363.5\n",
      "Third Quartile (Q3): 755.0\n"
     ]
    }
   ],
   "source": [
    "data = np.random.randint(10, 1001, size=50)\n",
    "\n",
    "percentile_10 = np.percentile(data, 10)\n",
    "median = np.percentile(data, 50)  # 50th percentile\n",
    "percentile_90 = np.percentile(data, 90)\n",
    "\n",
    "first_quartile = np.percentile(data, 25)  # 25th percentile\n",
    "third_quartile = np.percentile(data, 75)   # 75th percentile\n",
    "\n",
    "print(\"Dataset:\", data)\n",
    "print(\"\\n10th Percentile:\", percentile_10)\n",
    "print(\"50th Percentile (Median):\", median)\n",
    "print(\"90th Percentile:\", percentile_90)\n",
    "print(\"First Quartile (Q1):\", first_quartile)\n",
    "print(\"Third Quartile (Q3):\", third_quartile)"
   ]
  },
  {
   "cell_type": "markdown",
   "id": "f4cbcbda-4bd8-4c4e-b45f-566d51e53ba4",
   "metadata": {},
   "source": [
    " 66. Create a NumPy array of integers and find the index of a specific element."
   ]
  },
  {
   "cell_type": "code",
   "execution_count": 26,
   "id": "d21cd5c0-3330-4b97-96a8-248ec0464bef",
   "metadata": {},
   "outputs": [
    {
     "name": "stdout",
     "output_type": "stream",
     "text": [
      "Array: [10 20 30 40 50 60 70 80 90]\n",
      "Index of element 40: 3\n"
     ]
    }
   ],
   "source": [
    "arr = np.array([10, 20, 30, 40, 50, 60, 70, 80, 90])\n",
    "\n",
    "element_to_find = 40\n",
    "\n",
    "indices = np.where(arr == element_to_find)[0]\n",
    "\n",
    "print(\"Array:\", arr)\n",
    "if indices.size > 0:\n",
    "    print(f\"Index of element {element_to_find}: {indices[0]}\")\n",
    "else:\n",
    "    print(f\"Element {element_to_find} not found in the array.\")"
   ]
  },
  {
   "cell_type": "markdown",
   "id": "ac6dbcad-967a-45c7-b776-0ca16c73db4e",
   "metadata": {},
   "source": [
    " 67. Generate a random NumPy array and sort it in ascending order."
   ]
  },
  {
   "cell_type": "code",
   "execution_count": 27,
   "id": "bd97b65a-b8dc-488f-965b-8d77f6633cab",
   "metadata": {},
   "outputs": [
    {
     "name": "stdout",
     "output_type": "stream",
     "text": [
      "Random Array:\n",
      "[29 59 50 27 93 36 56 85 48 53 41 63 71  1 80 27 37 23 41 61 63 68 39 93\n",
      " 82 20 50 18  5 16 21 48 17  8 50 24 31 51 82 56 77 20 43  6 24 16 44 86\n",
      " 35 98]\n",
      "\n",
      "Sorted Array (Ascending Order):\n",
      "[ 1  5  6  8 16 16 17 18 20 20 21 23 24 24 27 27 29 31 35 36 37 39 41 41\n",
      " 43 44 48 48 50 50 50 51 53 56 56 59 61 63 63 68 71 77 80 82 82 85 86 93\n",
      " 93 98]\n"
     ]
    }
   ],
   "source": [
    "random_array = np.random.randint(1, 101, size=50)\n",
    "\n",
    "sorted_array = np.sort(random_array)\n",
    "\n",
    "print(\"Random Array:\")\n",
    "print(random_array)\n",
    "print(\"\\nSorted Array (Ascending Order):\")\n",
    "print(sorted_array)"
   ]
  },
  {
   "cell_type": "markdown",
   "id": "cf42256b-afff-453d-b395-036114b16dd1",
   "metadata": {},
   "source": [
    " 68. Filter elements >20  in the given NumPy array.       \n",
    " arr = np.array([12, 25, 6, 42, 8, 30])"
   ]
  },
  {
   "cell_type": "code",
   "execution_count": 29,
   "id": "e5e6ef30-5fed-44aa-8d27-1e649fd634be",
   "metadata": {},
   "outputs": [
    {
     "name": "stdout",
     "output_type": "stream",
     "text": [
      "Original Array:\n",
      "[12 25  6 42  8 30]\n",
      "\n",
      "Filtered Elements (greater than 20):\n",
      "[25 42 30]\n"
     ]
    }
   ],
   "source": [
    "arr = np.array([12, 25, 6, 42, 8, 30])\n",
    "\n",
    "filtered_elements = arr[arr > 20]\n",
    "\n",
    "print(\"Original Array:\")\n",
    "print(arr)\n",
    "print(\"\\nFiltered Elements (greater than 20):\")\n",
    "print(filtered_elements)"
   ]
  },
  {
   "cell_type": "markdown",
   "id": "1f95a21a-ebb7-412e-9d39-1b364d14f6e1",
   "metadata": {},
   "source": [
    " 69. Filter elements which are divisible by 3 from a given NumPy array.     \n",
    " arr = np.array([1, 5, 8, 12, 15])"
   ]
  },
  {
   "cell_type": "code",
   "execution_count": 30,
   "id": "c48543c0-ecea-41ef-97c7-c85350a0dd3d",
   "metadata": {},
   "outputs": [
    {
     "name": "stdout",
     "output_type": "stream",
     "text": [
      "Original Array:\n",
      "[ 1  5  8 12 15]\n",
      "\n",
      "Filtered Elements (divisible by 3):\n",
      "[12 15]\n"
     ]
    }
   ],
   "source": [
    "arr = np.array([1, 5, 8, 12, 15])\n",
    "filtered_elements = arr[arr % 3 == 0]\n",
    "\n",
    "print(\"Original Array:\")\n",
    "print(arr)\n",
    "print(\"\\nFiltered Elements (divisible by 3):\")\n",
    "print(filtered_elements)"
   ]
  },
  {
   "cell_type": "markdown",
   "id": "a2fe8142-bb5e-42a1-8ddd-0af5bcfbec76",
   "metadata": {},
   "source": [
    " 70. Filter elements which are ≥ 20 and ≤ 40 from a given NumPy array.    \n",
    " arr = np.array([10, 20, 30, 40, 50])"
   ]
  },
  {
   "cell_type": "code",
   "execution_count": 31,
   "id": "6968381a-f3d1-4db1-9b35-9b888a09c27d",
   "metadata": {},
   "outputs": [
    {
     "name": "stdout",
     "output_type": "stream",
     "text": [
      "Original Array:\n",
      "[10 20 30 40 50]\n",
      "\n",
      "Filtered Elements (20 <= x <= 40):\n",
      "[20 30 40]\n"
     ]
    }
   ],
   "source": [
    "arr = np.array([10, 20, 30, 40, 50])\n",
    "filtered_elements = arr[(arr >= 20) & (arr <= 40)]\n",
    "\n",
    "print(\"Original Array:\")\n",
    "print(arr)\n",
    "print(\"\\nFiltered Elements (20 <= x <= 40):\")\n",
    "print(filtered_elements)"
   ]
  },
  {
   "cell_type": "markdown",
   "id": "0ae7517b-4e61-4666-9ea5-96e797d8a711",
   "metadata": {},
   "source": [
    " 71. For the given NumPy array, check its byte order using the `dtype` attribute byteorder.      \n",
    " arr = np.array([1, 2, 3])"
   ]
  },
  {
   "cell_type": "code",
   "execution_count": 32,
   "id": "a8b2daf1-5d2f-418f-9984-0025176efa0e",
   "metadata": {},
   "outputs": [
    {
     "name": "stdout",
     "output_type": "stream",
     "text": [
      "Array: [1 2 3]\n",
      "Byte Order: =\n"
     ]
    }
   ],
   "source": [
    "arr = np.array([1, 2, 3])\n",
    "byte_order = arr.dtype.byteorder\n",
    "\n",
    "print(\"Array:\", arr)\n",
    "print(\"Byte Order:\", byte_order)"
   ]
  },
  {
   "cell_type": "markdown",
   "id": "b6b46e15-c8d7-4385-871e-8f8914d1d19e",
   "metadata": {},
   "source": [
    "72. For the given NumPy array, perform byte swapping in place using `byteswap()`.      \n",
    " arr = np.array([1, 2, 3], dtype=np.int32) "
   ]
  },
  {
   "cell_type": "code",
   "execution_count": 33,
   "id": "a38a4426-ae23-452e-82f8-86e465c9358b",
   "metadata": {},
   "outputs": [
    {
     "name": "stdout",
     "output_type": "stream",
     "text": [
      "Original Array: [1 2 3]\n",
      "Byte-Swapped Array: [16777216 33554432 50331648]\n"
     ]
    }
   ],
   "source": [
    "arr = np.array([1, 2, 3], dtype=np.int32)\n",
    "\n",
    "print(\"Original Array:\", arr)\n",
    "\n",
    "arr.byteswap(inplace=True)\n",
    "\n",
    "print(\"Byte-Swapped Array:\", arr)"
   ]
  },
  {
   "cell_type": "markdown",
   "id": "d4f4da93-ea97-4c58-9db4-1ac99424149e",
   "metadata": {},
   "source": [
    " 73. For the given NumPy array, swap its byte order without modifying the original array using \n",
    "`newbyteorder()`.     \n",
    " arr = np.array([1, 2, 3], dtype=np.int32)"
   ]
  },
  {
   "cell_type": "code",
   "execution_count": 34,
   "id": "5ac59ae2-c312-441d-858e-4aeebdb22e62",
   "metadata": {},
   "outputs": [
    {
     "name": "stdout",
     "output_type": "stream",
     "text": [
      "Original Array: [1 2 3]\n",
      "Byte-Swapped Array: [16777216 33554432 50331648]\n"
     ]
    }
   ],
   "source": [
    "arr = np.array([1, 2, 3], dtype=np.int32)\n",
    "print(\"Original Array:\", arr)\n",
    "\n",
    "byte_swapped_arr = arr.newbyteorder()\n",
    "\n",
    "print(\"Byte-Swapped Array:\", byte_swapped_arr)"
   ]
  },
  {
   "cell_type": "markdown",
   "id": "30c58a09-67b9-4ced-b693-299bed9542fe",
   "metadata": {},
   "source": [
    " 74. For the given NumPy array and swap its byte order conditionally based on system endianness using \n",
    "`newbyteorder()`.     \n",
    " arr = np.array([1, 2, 3], dtype=np.int32)"
   ]
  },
  {
   "cell_type": "code",
   "execution_count": 35,
   "id": "361c77cf-df0a-415b-9db7-5bbdf478f5e6",
   "metadata": {},
   "outputs": [
    {
     "name": "stdout",
     "output_type": "stream",
     "text": [
      "Original Array: [1 2 3]\n",
      "Byte-Swapped Array: [16777216 33554432 50331648]\n"
     ]
    }
   ],
   "source": [
    "import sys\n",
    "arr = np.array([1, 2, 3], dtype=np.int32)\n",
    "print(\"Original Array:\", arr)\n",
    "\n",
    "system_byte_order = sys.byteorder\n",
    "\n",
    "if arr.dtype.byteorder != system_byte_order:\n",
    "    byte_swapped_arr = arr.newbyteorder()\n",
    "    print(\"Byte-Swapped Array:\", byte_swapped_arr)\n",
    "else:\n",
    "    print(\"No byte swapping needed.\")"
   ]
  },
  {
   "cell_type": "markdown",
   "id": "21471055-b1e1-4b60-b40f-ba5fd049a6b0",
   "metadata": {},
   "source": [
    " 75. For the given NumPy array, check if byte swapping is necessary for the current system using `dtype` \n",
    "attribute `byteorder`.      \n",
    " arr = np.array([1, 2, 3], dtype=np.int32)"
   ]
  },
  {
   "cell_type": "code",
   "execution_count": 36,
   "id": "7b2e4be8-4c47-482b-a630-560a9a17da97",
   "metadata": {},
   "outputs": [
    {
     "name": "stdout",
     "output_type": "stream",
     "text": [
      "Original Array: [1 2 3]\n",
      "Byte swapping is necessary.\n"
     ]
    }
   ],
   "source": [
    "import sys\n",
    "\n",
    "arr = np.array([1, 2, 3], dtype=np.int32)\n",
    "\n",
    "print(\"Original Array:\", arr)\n",
    "\n",
    "if arr.dtype.byteorder == sys.byteorder[0]:\n",
    "    print(\"No byte swapping necessary.\")\n",
    "else:\n",
    "    print(\"Byte swapping is necessary.\")"
   ]
  },
  {
   "cell_type": "markdown",
   "id": "61d9ad64-dedf-46aa-aae5-1eecfd293430",
   "metadata": {},
   "source": [
    " 76. Create a NumPy array `arr1` with values from 1 to 10. Create a copy of `arr1` named `copy_arr` and modify \n",
    "an element in `copy_arr`. Check if modifying `copy_arr` affects `arr1`."
   ]
  },
  {
   "cell_type": "code",
   "execution_count": 37,
   "id": "3c1d6d47-8ae5-4cdd-8588-b11919519664",
   "metadata": {},
   "outputs": [
    {
     "name": "stdout",
     "output_type": "stream",
     "text": [
      "Original Array (arr1): [ 1  2  3  4  5  6  7  8  9 10]\n",
      "Modified Copy Array (copy_arr): [99  2  3  4  5  6  7  8  9 10]\n"
     ]
    }
   ],
   "source": [
    "arr1 = np.arange(1, 11)\n",
    "\n",
    "copy_arr = arr1.copy()\n",
    "\n",
    "copy_arr[0] = 99  # Change the first element to 99\n",
    "\n",
    "print(\"Original Array (arr1):\", arr1)\n",
    "print(\"Modified Copy Array (copy_arr):\", copy_arr)"
   ]
  },
  {
   "cell_type": "markdown",
   "id": "2267ece5-41ae-4f1c-b039-09bccd614738",
   "metadata": {},
   "source": [
    " 77. Create a 2D NumPy array `matrix` of shape (3, 3) with random integers. Extract a slice `view_slice` from \n",
    "the matrix. Modify an element in `view_slice` and observe if it changes the original `matrix`."
   ]
  },
  {
   "cell_type": "code",
   "execution_count": 38,
   "id": "6d03f4a4-8a8f-4301-b5f1-3de5a7bdcbb1",
   "metadata": {},
   "outputs": [
    {
     "name": "stdout",
     "output_type": "stream",
     "text": [
      "Original Matrix:\n",
      "[[ 6  7  5]\n",
      " [ 2  8 10]\n",
      " [ 1  2  8]]\n",
      "\n",
      "Extracted Slice:\n",
      "[[ 8 10]\n",
      " [ 2  8]]\n",
      "\n",
      "Modified Slice:\n",
      "[[99 10]\n",
      " [ 2  8]]\n",
      "\n",
      "Modified Matrix:\n",
      "[[ 6  7  5]\n",
      " [ 2 99 10]\n",
      " [ 1  2  8]]\n"
     ]
    }
   ],
   "source": [
    "matrix = np.random.randint(1, 11, size=(3, 3))\n",
    "\n",
    "print(\"Original Matrix:\")\n",
    "print(matrix)\n",
    "\n",
    "view_slice = matrix[1:, 1:]\n",
    "\n",
    "print(\"\\nExtracted Slice:\")\n",
    "print(view_slice)\n",
    "\n",
    "view_slice[0, 0] = 99\n",
    "\n",
    "print(\"\\nModified Slice:\")\n",
    "print(view_slice)\n",
    "print(\"\\nModified Matrix:\")\n",
    "print(matrix)"
   ]
  },
  {
   "cell_type": "markdown",
   "id": "065b5713-d52d-4507-bd19-b0bcfd43e665",
   "metadata": {},
   "source": [
    " 78. Create a NumPy array `array_a` of shape (4, 3) with sequential integers from 1 to 12. Extract a slice \n",
    "`view_b` from `array_a` and broadcast the addition of 5 to view_b. Check if it alters the original `array_a`."
   ]
  },
  {
   "cell_type": "code",
   "execution_count": 39,
   "id": "156a32da-a461-41dd-bf16-ca1437374977",
   "metadata": {},
   "outputs": [
    {
     "name": "stdout",
     "output_type": "stream",
     "text": [
      "Original Array (array_a):\n",
      "[[ 1  2  3]\n",
      " [ 4  5  6]\n",
      " [ 7  8  9]\n",
      " [10 11 12]]\n",
      "\n",
      "Extracted Slice (view_b):\n",
      "[[ 5  6]\n",
      " [ 8  9]\n",
      " [11 12]]\n",
      "\n",
      "Modified Slice (view_b):\n",
      "[[10 11]\n",
      " [13 14]\n",
      " [16 17]]\n",
      "\n",
      "Original Array After Modification (array_a):\n",
      "[[ 1  2  3]\n",
      " [ 4 10 11]\n",
      " [ 7 13 14]\n",
      " [10 16 17]]\n"
     ]
    }
   ],
   "source": [
    "array_a = np.arange(1, 13).reshape(4, 3)\n",
    "\n",
    "print(\"Original Array (array_a):\")\n",
    "print(array_a)\n",
    "\n",
    "view_b = array_a[1:, 1:] \n",
    "\n",
    "print(\"\\nExtracted Slice (view_b):\")\n",
    "print(view_b)\n",
    "\n",
    "view_b += 5\n",
    "\n",
    "print(\"\\nModified Slice (view_b):\")\n",
    "print(view_b)\n",
    "print(\"\\nOriginal Array After Modification (array_a):\")\n",
    "print(array_a)"
   ]
  },
  {
   "cell_type": "markdown",
   "id": "c53b7bc6-37e5-46a5-b2ab-3e3b246860c8",
   "metadata": {},
   "source": [
    " 79. Create a NumPy array `orig_array` of shape (2, 4) with values from 1 to 8. Create a reshaped view \n",
    "`reshaped_view` of shape (4, 2) from orig_array. Modify an element in `reshaped_view` and check if it \n",
    "reflects changes in the original `orig_array`."
   ]
  },
  {
   "cell_type": "code",
   "execution_count": 41,
   "id": "bc357976-a9ef-4bbf-9813-f092919ac74b",
   "metadata": {},
   "outputs": [
    {
     "name": "stdout",
     "output_type": "stream",
     "text": [
      "Original Array (orig_array):\n",
      "[[1 2 3 4]\n",
      " [5 6 7 8]]\n",
      "\n",
      "Reshaped View (reshaped_view):\n",
      "[[1 2]\n",
      " [3 4]\n",
      " [5 6]\n",
      " [7 8]]\n",
      "\n",
      "Modified Reshaped View (reshaped_view):\n",
      "[[99  2]\n",
      " [ 3  4]\n",
      " [ 5  6]\n",
      " [ 7  8]]\n",
      "\n",
      "Original Array After Modification (orig_array):\n",
      "[[99  2  3  4]\n",
      " [ 5  6  7  8]]\n"
     ]
    }
   ],
   "source": [
    "orig_array = np.arange(1, 9).reshape(2, 4)\n",
    "\n",
    "print(\"Original Array (orig_array):\")\n",
    "print(orig_array)\n",
    "\n",
    "reshaped_view = orig_array.reshape(4, 2)\n",
    "\n",
    "print(\"\\nReshaped View (reshaped_view):\")\n",
    "print(reshaped_view)\n",
    "\n",
    "reshaped_view[0, 0] = 99\n",
    "\n",
    "print(\"\\nModified Reshaped View (reshaped_view):\")\n",
    "print(reshaped_view)\n",
    "print(\"\\nOriginal Array After Modification (orig_array):\")\n",
    "print(orig_array)"
   ]
  },
  {
   "cell_type": "markdown",
   "id": "0452c942-71f2-4a56-9659-2c639334c89c",
   "metadata": {},
   "source": [
    " 80. Create a NumPy array `data` of shape (3, 4) with random integers. Extract a copy `data_copy` of \n",
    "elements greater than 5. Modify an element in `data_copy` and verify if it affects the original `data`."
   ]
  },
  {
   "cell_type": "code",
   "execution_count": 42,
   "id": "0df2c1b1-6da4-4e3f-a8b9-60c100823680",
   "metadata": {},
   "outputs": [
    {
     "name": "stdout",
     "output_type": "stream",
     "text": [
      "Original Array (data):\n",
      "[[ 5  7  5 10]\n",
      " [10  4 10  4]\n",
      " [ 4 10  7 10]]\n",
      "\n",
      "Copied Array (data_copy):\n",
      "[ 7 10 10 10 10  7 10]\n",
      "\n",
      "Modified Copied Array (data_copy):\n",
      "[99 10 10 10 10  7 10]\n",
      "\n",
      "Original Array After Modification (data):\n",
      "[[ 5  7  5 10]\n",
      " [10  4 10  4]\n",
      " [ 4 10  7 10]]\n"
     ]
    }
   ],
   "source": [
    "data = np.random.randint(1, 11, size=(3, 4))\n",
    "\n",
    "print(\"Original Array (data):\")\n",
    "print(data)\n",
    "\n",
    "data_copy = data[data > 5].copy()\n",
    "\n",
    "print(\"\\nCopied Array (data_copy):\")\n",
    "print(data_copy)\n",
    "\n",
    "if data_copy.size > 0: \n",
    "    data_copy[0] = 99  \n",
    "\n",
    "print(\"\\nModified Copied Array (data_copy):\")\n",
    "print(data_copy)\n",
    "print(\"\\nOriginal Array After Modification (data):\")\n",
    "print(data)"
   ]
  },
  {
   "cell_type": "markdown",
   "id": "678b2f55-1e0e-495b-bec2-ff1a3aa1ca08",
   "metadata": {},
   "source": [
    " 81. Create two matrices A and B of identical shape containing integers and perform addition and subtraction \n",
    "operations between them."
   ]
  },
  {
   "cell_type": "code",
   "execution_count": 43,
   "id": "7b2121a6-3f99-4210-b32f-74e64d890e38",
   "metadata": {},
   "outputs": [
    {
     "name": "stdout",
     "output_type": "stream",
     "text": [
      "Matrix A:\n",
      "[[3 9 4]\n",
      " [6 6 5]\n",
      " [1 7 7]]\n",
      "\n",
      "Matrix B:\n",
      "[[3 4 9]\n",
      " [7 3 4]\n",
      " [5 3 4]]\n",
      "\n",
      "Addition of A and B (C_add):\n",
      "[[ 6 13 13]\n",
      " [13  9  9]\n",
      " [ 6 10 11]]\n",
      "\n",
      "Subtraction of A and B (C_sub):\n",
      "[[ 0  5 -5]\n",
      " [-1  3  1]\n",
      " [-4  4  3]]\n"
     ]
    }
   ],
   "source": [
    "A = np.random.randint(1, 11, size=(3, 3))\n",
    "B = np.random.randint(1, 11, size=(3, 3))\n",
    "\n",
    "print(\"Matrix A:\")\n",
    "print(A)\n",
    "print(\"\\nMatrix B:\")\n",
    "print(B)\n",
    "\n",
    "C_add = A + B\n",
    "\n",
    "C_sub = A - B\n",
    "\n",
    "print(\"\\nAddition of A and B (C_add):\")\n",
    "print(C_add)\n",
    "print(\"\\nSubtraction of A and B (C_sub):\")\n",
    "print(C_sub)"
   ]
  },
  {
   "cell_type": "markdown",
   "id": "b1f8c685-6e77-4399-9b6d-531c8d66a4e1",
   "metadata": {},
   "source": [
    " 82. Generate two matrices `C` (3x2) and `D` (2x4) and perform matrix multiplication."
   ]
  },
  {
   "cell_type": "code",
   "execution_count": 45,
   "id": "6de9c40c-360a-4dda-9df0-981f9b5a1e29",
   "metadata": {},
   "outputs": [
    {
     "name": "stdout",
     "output_type": "stream",
     "text": [
      "Matrix C (3x2):\n",
      "[[ 8  6]\n",
      " [ 7  4]\n",
      " [10  9]]\n",
      "\n",
      "Matrix D (2x4):\n",
      "[[3 7 8 9]\n",
      " [3 9 3 7]]\n",
      "\n",
      "Result of Matrix Multiplication (C @ D):\n",
      "[[ 42 110  82 114]\n",
      " [ 33  85  68  91]\n",
      " [ 57 151 107 153]]\n"
     ]
    }
   ],
   "source": [
    "C = np.random.randint(1, 11, size=(3, 2))\n",
    "\n",
    "D = np.random.randint(1, 11, size=(2, 4))\n",
    "\n",
    "print(\"Matrix C (3x2):\")\n",
    "print(C)\n",
    "print(\"\\nMatrix D (2x4):\")\n",
    "print(D)\n",
    "\n",
    "result = np.dot(C, D)\n",
    "\n",
    "# Alternatively, you can use the @ operator\n",
    "# result = C @ D\n",
    "print(\"\\nResult of Matrix Multiplication (C @ D):\")\n",
    "print(result)"
   ]
  },
  {
   "cell_type": "markdown",
   "id": "fe111e43-6b3a-410a-b40b-7a523a170fab",
   "metadata": {},
   "source": [
    " 83. Create a matrix `E` and find its transpose."
   ]
  },
  {
   "cell_type": "code",
   "execution_count": 46,
   "id": "5d75a976-33be-43dc-821e-89adf88b4055",
   "metadata": {},
   "outputs": [
    {
     "name": "stdout",
     "output_type": "stream",
     "text": [
      "Original Matrix E:\n",
      "[[2 8 9 3]\n",
      " [9 5 9 6]\n",
      " [3 5 2 7]]\n",
      "\n",
      "Transposed Matrix E:\n",
      "[[2 9 3]\n",
      " [8 5 5]\n",
      " [9 9 2]\n",
      " [3 6 7]]\n"
     ]
    }
   ],
   "source": [
    "E = np.random.randint(1, 11, size=(3, 4))\n",
    "\n",
    "print(\"Original Matrix E:\")\n",
    "print(E)\n",
    "\n",
    "E_transpose = E.T\n",
    "\n",
    "print(\"\\nTransposed Matrix E:\")\n",
    "print(E_transpose)"
   ]
  },
  {
   "cell_type": "markdown",
   "id": "e0071618-a9a9-44ab-bf49-41d462bceee7",
   "metadata": {},
   "source": [
    " 84. Generate a square matrix `F` and compute its determinant."
   ]
  },
  {
   "cell_type": "code",
   "execution_count": 47,
   "id": "479ef624-d8ae-4677-bb40-7c6471a7fec0",
   "metadata": {},
   "outputs": [
    {
     "name": "stdout",
     "output_type": "stream",
     "text": [
      "Matrix F:\n",
      "[[0.90002885 0.63571461 0.00405042]\n",
      " [0.15363879 0.23142285 0.12030952]\n",
      " [0.14792512 0.67073833 0.74508633]]\n",
      "\n",
      "Determinant of Matrix F:\n",
      "0.021382596414977396\n"
     ]
    }
   ],
   "source": [
    "F = np.random.rand(3, 3)\n",
    "\n",
    "print(\"Matrix F:\")\n",
    "print(F)\n",
    "\n",
    "determinant_F = np.linalg.det(F)\n",
    "\n",
    "print(\"\\nDeterminant of Matrix F:\")\n",
    "print(determinant_F)"
   ]
  },
  {
   "cell_type": "markdown",
   "id": "bb6394e5-763c-4009-a3be-7ee1ee847ce7",
   "metadata": {},
   "source": [
    " 85. Create a square matrix `G` and find its inverse."
   ]
  },
  {
   "cell_type": "code",
   "execution_count": 48,
   "id": "61bb2406-2a21-41c1-8fd3-8f04b2208e7d",
   "metadata": {},
   "outputs": [
    {
     "name": "stdout",
     "output_type": "stream",
     "text": [
      "Matrix G:\n",
      "[[0.63316645 0.23309997 0.47309703]\n",
      " [0.70648601 0.24386898 0.80425489]\n",
      " [0.78386729 0.30657174 0.2217572 ]]\n",
      "\n",
      "Inverse of Matrix G:\n",
      "[[-326.14378789  158.167462    122.16380085]\n",
      " [ 802.74533045 -390.45336466 -296.50628368]\n",
      " [  43.08502265  -19.30188598  -17.40534258]]\n"
     ]
    }
   ],
   "source": [
    "G = np.random.rand(3, 3)\n",
    "\n",
    "print(\"Matrix G:\")\n",
    "print(G)\n",
    "\n",
    "inverse_G = np.linalg.inv(G)\n",
    "\n",
    "print(\"\\nInverse of Matrix G:\")\n",
    "print(inverse_G)"
   ]
  },
  {
   "cell_type": "code",
   "execution_count": null,
   "id": "93e31603-a558-44ab-aadb-ab73637af6dc",
   "metadata": {},
   "outputs": [],
   "source": []
  }
 ],
 "metadata": {
  "kernelspec": {
   "display_name": "Python 3 (ipykernel)",
   "language": "python",
   "name": "python3"
  },
  "language_info": {
   "codemirror_mode": {
    "name": "ipython",
    "version": 3
   },
   "file_extension": ".py",
   "mimetype": "text/x-python",
   "name": "python",
   "nbconvert_exporter": "python",
   "pygments_lexer": "ipython3",
   "version": "3.10.8"
  }
 },
 "nbformat": 4,
 "nbformat_minor": 5
}
